{
  "nbformat": 4,
  "nbformat_minor": 0,
  "metadata": {
    "colab": {
      "provenance": [],
      "toc_visible": true
    },
    "kernelspec": {
      "name": "python3",
      "display_name": "Python 3"
    },
    "language_info": {
      "name": "python"
    }
  },
  "cells": [
    {
      "cell_type": "markdown",
      "metadata": {
        "id": "_WrmF0VsKbey"
      },
      "source": [
        "## Q DEMDE: Quantum-classical density matrix density estimation"
      ]
    },
    {
      "cell_type": "markdown",
      "metadata": {
        "id": "FrAbmHBdYTbI"
      },
      "source": [
        "## Libraries"
      ]
    },
    {
      "cell_type": "code",
      "execution_count": 1,
      "metadata": {
        "colab": {
          "base_uri": "https://localhost:8080/"
        },
        "id": "sCkbWetPXn6-",
        "outputId": "6601de08-80e5-48a2-c2f2-47a899ad6261"
      },
      "outputs": [
        {
          "output_type": "stream",
          "name": "stdout",
          "text": [
            "Collecting pennylane\n",
            "  Downloading PennyLane-0.35.1-py3-none-any.whl (1.6 MB)\n",
            "\u001b[2K     \u001b[90m━━━━━━━━━━━━━━━━━━━━━━━━━━━━━━━━━━━━━━━━\u001b[0m \u001b[32m1.6/1.6 MB\u001b[0m \u001b[31m10.6 MB/s\u001b[0m eta \u001b[36m0:00:00\u001b[0m\n",
            "\u001b[?25hRequirement already satisfied: numpy in /usr/local/lib/python3.10/dist-packages (from pennylane) (1.25.2)\n",
            "Requirement already satisfied: scipy in /usr/local/lib/python3.10/dist-packages (from pennylane) (1.11.4)\n",
            "Requirement already satisfied: networkx in /usr/local/lib/python3.10/dist-packages (from pennylane) (3.2.1)\n",
            "Collecting rustworkx (from pennylane)\n",
            "  Downloading rustworkx-0.14.2-cp310-cp310-manylinux_2_17_x86_64.manylinux2014_x86_64.whl (2.1 MB)\n",
            "\u001b[2K     \u001b[90m━━━━━━━━━━━━━━━━━━━━━━━━━━━━━━━━━━━━━━━━\u001b[0m \u001b[32m2.1/2.1 MB\u001b[0m \u001b[31m19.3 MB/s\u001b[0m eta \u001b[36m0:00:00\u001b[0m\n",
            "\u001b[?25hRequirement already satisfied: autograd in /usr/local/lib/python3.10/dist-packages (from pennylane) (1.6.2)\n",
            "Requirement already satisfied: toml in /usr/local/lib/python3.10/dist-packages (from pennylane) (0.10.2)\n",
            "Requirement already satisfied: appdirs in /usr/local/lib/python3.10/dist-packages (from pennylane) (1.4.4)\n",
            "Collecting semantic-version>=2.7 (from pennylane)\n",
            "  Downloading semantic_version-2.10.0-py2.py3-none-any.whl (15 kB)\n",
            "Collecting autoray>=0.6.1 (from pennylane)\n",
            "  Downloading autoray-0.6.9-py3-none-any.whl (49 kB)\n",
            "\u001b[2K     \u001b[90m━━━━━━━━━━━━━━━━━━━━━━━━━━━━━━━━━━━━━━━━\u001b[0m \u001b[32m49.8/49.8 kB\u001b[0m \u001b[31m2.9 MB/s\u001b[0m eta \u001b[36m0:00:00\u001b[0m\n",
            "\u001b[?25hRequirement already satisfied: cachetools in /usr/local/lib/python3.10/dist-packages (from pennylane) (5.3.3)\n",
            "Collecting pennylane-lightning>=0.35 (from pennylane)\n",
            "  Downloading PennyLane_Lightning-0.35.1-cp310-cp310-manylinux_2_17_x86_64.manylinux2014_x86_64.whl (18.5 MB)\n",
            "\u001b[2K     \u001b[90m━━━━━━━━━━━━━━━━━━━━━━━━━━━━━━━━━━━━━━━━\u001b[0m \u001b[32m18.5/18.5 MB\u001b[0m \u001b[31m34.5 MB/s\u001b[0m eta \u001b[36m0:00:00\u001b[0m\n",
            "\u001b[?25hRequirement already satisfied: requests in /usr/local/lib/python3.10/dist-packages (from pennylane) (2.31.0)\n",
            "Requirement already satisfied: typing-extensions in /usr/local/lib/python3.10/dist-packages (from pennylane) (4.10.0)\n",
            "Requirement already satisfied: future>=0.15.2 in /usr/local/lib/python3.10/dist-packages (from autograd->pennylane) (0.18.3)\n",
            "Requirement already satisfied: charset-normalizer<4,>=2 in /usr/local/lib/python3.10/dist-packages (from requests->pennylane) (3.3.2)\n",
            "Requirement already satisfied: idna<4,>=2.5 in /usr/local/lib/python3.10/dist-packages (from requests->pennylane) (3.6)\n",
            "Requirement already satisfied: urllib3<3,>=1.21.1 in /usr/local/lib/python3.10/dist-packages (from requests->pennylane) (2.0.7)\n",
            "Requirement already satisfied: certifi>=2017.4.17 in /usr/local/lib/python3.10/dist-packages (from requests->pennylane) (2024.2.2)\n",
            "Installing collected packages: semantic-version, rustworkx, autoray, pennylane-lightning, pennylane\n",
            "Successfully installed autoray-0.6.9 pennylane-0.35.1 pennylane-lightning-0.35.1 rustworkx-0.14.2 semantic-version-2.10.0\n"
          ]
        }
      ],
      "source": [
        "!pip install pennylane"
      ]
    },
    {
      "cell_type": "code",
      "execution_count": 2,
      "metadata": {
        "id": "DWBL78XFYR_9"
      },
      "outputs": [],
      "source": [
        "import pennylane as qml\n",
        "from pennylane import numpy as np\n",
        "import matplotlib.pyplot as plt\n",
        "from pennylane.optimize import NesterovMomentumOptimizer\n",
        "from scipy.stats import norm\n",
        "import numpy as onp\n",
        "import matplotlib.pyplot as plt\n",
        "import tensorflow as tf\n",
        "from tensorflow import keras\n",
        "import tensorflow_probability as tfp\n",
        "tfd = tfp.distributions\n",
        "tfb = tfp.bijectors"
      ]
    },
    {
      "cell_type": "markdown",
      "metadata": {
        "id": "mM23KQmnLMIN"
      },
      "source": [
        "## Classical Prediction with Complex Adaptive RFF"
      ]
    },
    {
      "cell_type": "code",
      "source": [
        "import pylab as pl\n",
        "from sklearn.kernel_approximation import RBFSampler\n",
        "\n",
        "def rff_map(x, gamma, n_components, random_state=0):\n",
        "    rbf_feature = RBFSampler(gamma=gamma, n_components=n_components, random_state=random_state)\n",
        "    return rbf_feature.fit_transform(x)\n",
        "\n",
        "def gauss_kernel(x, y, gamma):\n",
        "    return np.exp(-gamma * (x - y) ** 2)"
      ],
      "metadata": {
        "id": "gcTXbKNFZgeG"
      },
      "execution_count": 3,
      "outputs": []
    },
    {
      "cell_type": "code",
      "source": [
        "class QFeatureMapCompAdaptRFF(tf.keras.layers.Layer):\n",
        "\n",
        "    def __init__(\n",
        "                 self,\n",
        "                 input_dim: int,\n",
        "                 dim: int = 100,\n",
        "                 gamma: float = 1,\n",
        "                 random_state = None,\n",
        "                 gamma_trainable=False,\n",
        "                 weights_trainable=True,\n",
        "                 **kwargs\n",
        "                 ):\n",
        "        self.g_trainable = gamma_trainable\n",
        "        self.w_trainable = weights_trainable\n",
        "        super().__init__(**kwargs)\n",
        "        self.input_dim = input_dim\n",
        "        self.dim = dim\n",
        "        self.gamma = gamma\n",
        "        self.random_state = random_state\n",
        "\n",
        "    def build(self, input_shape):\n",
        "        rbf_sampler = RBFSampler(\n",
        "            gamma=0.5,\n",
        "            n_components=self.dim,\n",
        "            random_state=self.random_state)\n",
        "        x = np.zeros(shape=(1, self.input_dim))\n",
        "        rbf_sampler.fit(x)\n",
        "        self.gamma_val = tf.Variable(\n",
        "            initial_value=self.gamma,\n",
        "            dtype=tf.float32,\n",
        "            trainable=self.g_trainable,\n",
        "            name=\"rff_gamma\")\n",
        "        self.rff_weights = tf.Variable(\n",
        "            initial_value=rbf_sampler.random_weights_,\n",
        "            dtype=tf.float32,\n",
        "            trainable=self.w_trainable,\n",
        "            name=\"rff_weights\")\n",
        "        self.built = True\n",
        "\n",
        "    def call(self, inputs):\n",
        "        # Complex Adaptive RFF\n",
        "        vals = tf.sqrt(self.gamma_val) * tf.matmul(inputs, self.rff_weights)\n",
        "        vals = tf.complex(tf.cos(vals), -tf.sin(vals))\n",
        "        vals = vals * tf.cast(tf.sqrt(1. / self.dim), tf.complex64)\n",
        "        norms = tf.linalg.norm(vals, axis=-1)\n",
        "        psi = vals / tf.expand_dims(norms, axis=-1)\n",
        "        return psi\n",
        "\n",
        "\n",
        "class DMRFF(tf.keras.Model):\n",
        "    def __init__(self,\n",
        "                 dim_x,\n",
        "                 num_rff,\n",
        "                 gamma=1,\n",
        "                 random_state=None):\n",
        "        super().__init__()\n",
        "        self.rff_layer = QFeatureMapCompAdaptRFF(input_dim=dim_x, dim=num_rff, gamma=gamma, random_state=random_state, gamma_trainable=False)\n",
        "\n",
        "    def call(self, inputs):\n",
        "\n",
        "        # Complex Adaptive RFF\n",
        "        x1 = inputs[:, 0]\n",
        "        x2 = inputs[:, 1]\n",
        "        phi1 = self.rff_layer(x1)\n",
        "        phi2 = self.rff_layer(x2)\n",
        "        dot = tf.einsum('...i,...i->...', tf.math.conj(phi1), phi2) * tf.einsum('...i,...i->...', tf.math.conj(phi2), phi1)\n",
        "        dot = tf.cast(dot, tf.float32)\n",
        "        return dot\n",
        "\n",
        "def calc_rbf(dmrff, x1, x2):\n",
        "    return dmrff.predict(np.concatenate([x1[:, np.newaxis, ...],\n",
        "                                         x2[:, np.newaxis, ...]],\n",
        "                                        axis=1),\n",
        "                         batch_size=256)"
      ],
      "metadata": {
        "id": "S5-Zz7IGV1Lp"
      },
      "execution_count": 4,
      "outputs": []
    },
    {
      "cell_type": "markdown",
      "metadata": {
        "id": "B54BPubGf3gv"
      },
      "source": [
        "# 2 Dimensions"
      ]
    },
    {
      "cell_type": "code",
      "execution_count": 5,
      "metadata": {
        "id": "_otU_RLEoOh9"
      },
      "outputs": [],
      "source": [
        "def calculate_constant_qmkde(gamma=1, dimension = 1):\n",
        "  sigma = (4*gamma)**(-1/2)\n",
        "  coefficient = 1 /  (2*np.pi*sigma**2)**(dimension/2)\n",
        "  return coefficient"
      ]
    },
    {
      "cell_type": "code",
      "execution_count": 6,
      "metadata": {
        "id": "vfjXhFB_dj6d"
      },
      "outputs": [],
      "source": [
        "def calculate_constant_log_qmkde(gamma=1, dimension = 1):\n",
        "  sigma = (4*gamma)**(-1/2)\n",
        "  coefficient = np.log(1) - (dimension/2.) *   np.log(2*np.pi*sigma**2)\n",
        "  return coefficient"
      ]
    },
    {
      "cell_type": "code",
      "execution_count": 7,
      "metadata": {
        "id": "QiCt32btP4NW"
      },
      "outputs": [],
      "source": [
        "def raw_kde(x_test, x_train, gamma=1):\n",
        "  sigma = (2*gamma)**(-1/2)\n",
        "  euclidean_distance = np.sum(((x_test-x_train))**2, axis=1)\n",
        "  exponential  = np.exp(-euclidean_distance/(2*sigma**2))\n",
        "  constant_outside = 1/(np.size(x_train) * (2*np.pi*sigma**2)**(x_train.shape[1]/2))\n",
        "  return constant_outside * np.sum(exponential)"
      ]
    },
    {
      "cell_type": "code",
      "execution_count": 8,
      "metadata": {
        "id": "ephZxuWQdvL_"
      },
      "outputs": [],
      "source": [
        "def raw_log_kde(x_test, x_train, gamma=1):\n",
        "  sigma = (2*gamma)**(-1/2)\n",
        "  euclidean_distance = np.sum(((x_test-x_train))**2, axis=1)\n",
        "  exponential  = np.exp(-euclidean_distance/(2*sigma**2))\n",
        "  constant_outside = np.log(1) - np.log(np.size(x_train)) - (x_train.shape[1]/2) * np.log(2*np.pi*sigma**2)\n",
        "  return constant_outside + np.log(np.sum(exponential))"
      ]
    },
    {
      "cell_type": "code",
      "source": [
        "def plot(X_train, X_train_density, X_test, X_test_density, name = \"dataset\"):\n",
        "    plt.axes(frameon = 0)\n",
        "    plt.grid()\n",
        "    plt.scatter(X_test[:,0],  X_test[:,1], c = X_test_density , alpha = .5, s = 3, linewidths= 0.0000001)\n",
        "    plt.colorbar()\n",
        "    plt.title('potential 1 dataset')\n",
        "    plt.savefig(f'{name}.png',dpi = 300)\n",
        "    plt.show()"
      ],
      "metadata": {
        "id": "EVY6UhNSXdvu"
      },
      "execution_count": 9,
      "outputs": []
    },
    {
      "cell_type": "markdown",
      "metadata": {
        "id": "jrrNCbgSByuZ"
      },
      "source": [
        "# ARC dataset"
      ]
    },
    {
      "cell_type": "markdown",
      "metadata": {
        "id": "-awU_Heo_5hf"
      },
      "source": [
        "Weird Gaussians from `Masked Autoregressive Flow for Density Estimation`\n",
        "***"
      ]
    },
    {
      "cell_type": "markdown",
      "metadata": {
        "id": "N_L4iT23cT2q"
      },
      "source": [
        "See the article [here](https://arxiv.org/pdf/1705.07057.pdf) where the distribution of the data is given by the following density:\n",
        "\n",
        "$$\n",
        "p(x,y) = \\mathcal{N}\\left(x_2| 0,4\\right) \\mathcal{N}\\left(x_1|\\frac{1}{4}x_2^2,1\\right)\n",
        "$$"
      ]
    },
    {
      "cell_type": "markdown",
      "metadata": {
        "id": "Lla-6r3GGE7K"
      },
      "source": [
        "## Dataset Generation"
      ]
    },
    {
      "cell_type": "code",
      "execution_count": 10,
      "metadata": {
        "id": "6SzcfEqOLPu5"
      },
      "outputs": [],
      "source": [
        "dataset_size = 40_000"
      ]
    },
    {
      "cell_type": "code",
      "execution_count": 11,
      "metadata": {
        "id": "PV9oWPcBf2-M"
      },
      "outputs": [],
      "source": [
        "x2_dist = tfd.Normal(loc=0., scale=4.)\n",
        "x2_samples = x2_dist.sample(dataset_size)\n",
        "x1 = tfd.Normal(loc=.25 * tf.square(x2_samples),\n",
        "                scale=tf.ones(dataset_size, dtype=tf.float32))\n",
        "x1_samples = x1.sample()\n",
        "x_samples = tf.stack([x1_samples, x2_samples], axis=1)"
      ]
    },
    {
      "cell_type": "code",
      "execution_count": 12,
      "metadata": {
        "id": "Cgmxfa7rRwGF"
      },
      "outputs": [],
      "source": [
        "X_densities = x2_dist.prob(x_samples[:,1]) * x1.prob(x_samples[:,0])"
      ]
    },
    {
      "cell_type": "markdown",
      "metadata": {
        "id": "GrgHyORHe-zZ"
      },
      "source": [
        "True densities"
      ]
    },
    {
      "cell_type": "code",
      "execution_count": 13,
      "metadata": {
        "id": "MXhts4--fKgf"
      },
      "outputs": [],
      "source": [
        "x2 = tfp.distributions.Normal(loc = 0., scale = 4.)\n",
        "x1 = tfp.distributions.Normal(loc = .25 * tf.square(x_samples[:,1]), scale = tf.ones(40_000, dtype=tf.float32))"
      ]
    },
    {
      "cell_type": "code",
      "execution_count": 14,
      "metadata": {
        "id": "cm9shjglNHq0"
      },
      "outputs": [],
      "source": [
        "X_densities = x2.prob(x_samples[:,1]) * x1.prob(x_samples[:,0])"
      ]
    },
    {
      "cell_type": "markdown",
      "metadata": {
        "id": "HCEoZV_NevLC"
      },
      "source": [
        "Scatter plot of the data"
      ]
    },
    {
      "cell_type": "code",
      "execution_count": 15,
      "metadata": {
        "colab": {
          "base_uri": "https://localhost:8080/",
          "height": 452
        },
        "id": "qyJcsEM0f9mb",
        "outputId": "7851a8a0-868d-4a1c-9e5b-8d722ff74251"
      },
      "outputs": [
        {
          "output_type": "display_data",
          "data": {
            "text/plain": [
              "<Figure size 640x480 with 2 Axes>"
            ],
            "image/png": "[encoded data removed]"
          },
          "metadata": {}
        }
      ],
      "source": [
        "plt.axes(frameon = 0)\n",
        "plt.grid()\n",
        "plt.scatter(x_samples[:,0],  x_samples[:,1], c = X_densities.numpy() , alpha = .2, s = 3, linewidths= 0.0000001)\n",
        "plt.colorbar()\n",
        "plt.title('ARC')\n",
        "plt.savefig('alldensities_arc.png',dpi = 300)\n",
        "plt.show()"
      ]
    },
    {
      "cell_type": "markdown",
      "metadata": {
        "id": "U7McKNWRSC1G"
      },
      "source": [
        "To generate mesh grid data that will be used to calculate probability density plot"
      ]
    },
    {
      "cell_type": "code",
      "execution_count": 16,
      "metadata": {
        "id": "uvPPkMRLptPm"
      },
      "outputs": [],
      "source": [
        "import scipy.stats"
      ]
    },
    {
      "cell_type": "code",
      "execution_count": 17,
      "metadata": {
        "id": "mwPcmrPdX_CW"
      },
      "outputs": [],
      "source": [
        "x, y = onp.mgrid[-10:40:(50/120), -15:15:(30/120)]\n",
        "pos = onp.dstack((x, y))\n",
        "X_plot = pos.reshape([14400,2])\n",
        "\n",
        "real_prob = x2_dist.prob(X_plot[:,1]) * scipy.stats.norm(0.25 * np.square(X_plot[:,1]), 1).pdf(X_plot[:,0])"
      ]
    },
    {
      "cell_type": "code",
      "execution_count": 18,
      "metadata": {
        "id": "H_mHHiImRMkV"
      },
      "outputs": [],
      "source": [
        "plt.rcParams[\"figure.figsize\"] = (20*0.25,15*0.25)"
      ]
    },
    {
      "cell_type": "code",
      "execution_count": 19,
      "metadata": {
        "colab": {
          "base_uri": "https://localhost:8080/",
          "height": 356
        },
        "id": "R6PZPC8wX_Cf",
        "outputId": "24c2992d-5270-4cf1-e666-5d1a49fbc49d"
      },
      "outputs": [
        {
          "output_type": "display_data",
          "data": {
            "text/plain": [
              "<Figure size 500x375 with 2 Axes>"
            ],
            "image/png": "[encoded data removed]"
          },
          "metadata": {}
        }
      ],
      "source": [
        "plt.axes(frameon = 0)\n",
        "plt.grid()\n",
        "plt.scatter(x, y, c = real_prob.numpy().reshape([120,120]) , alpha = .2, s = 3, linewidths= 0.0000001)\n",
        "plt.colorbar()\n",
        "plt.title('ARC')\n",
        "plt.yticks([])\n",
        "plt.xticks([])\n",
        "plt.savefig('alldensities_arc.png',dpi = 300)\n",
        "plt.show()"
      ]
    },
    {
      "cell_type": "code",
      "execution_count": 20,
      "metadata": {
        "colab": {
          "base_uri": "https://localhost:8080/"
        },
        "id": "3BBG1XUMNgiM",
        "outputId": "198ae2b1-b5c2-46d4-91aa-2b24bec507f6"
      },
      "outputs": [
        {
          "output_type": "execute_result",
          "data": {
            "text/plain": [
              "TensorShape([40000, 2])"
            ]
          },
          "metadata": {},
          "execution_count": 20
        }
      ],
      "source": [
        "x_samples.shape"
      ]
    },
    {
      "cell_type": "code",
      "execution_count": 21,
      "metadata": {
        "id": "_3yBj6HR-pI8"
      },
      "outputs": [],
      "source": [
        "from  sklearn import model_selection\n",
        "batch_size = 32\n",
        "train_set, test_set = model_selection.train_test_split(x_samples.numpy(), test_size=0.3)\n",
        "\n",
        "train_dataset = tf.data.Dataset.from_tensor_slices(train_set)\n",
        "batched_train_data = train_dataset.batch(batch_size)"
      ]
    },
    {
      "cell_type": "markdown",
      "metadata": {
        "id": "-nbfD5p-Cu-g"
      },
      "source": [
        "# Kernel density estimation baseline"
      ]
    },
    {
      "cell_type": "code",
      "execution_count": 22,
      "metadata": {
        "id": "S6CzO6-h7flI"
      },
      "outputs": [],
      "source": [
        "gamma = 2\n",
        "raw_kde_probability = onp.array([raw_kde(x_temp[np.newaxis,:], train_set, gamma) for x_temp in X_plot])"
      ]
    },
    {
      "cell_type": "code",
      "source": [
        "(1 / real_prob.shape[0]) * onp.sum(onp.abs(real_prob - raw_kde_probability))"
      ],
      "metadata": {
        "colab": {
          "base_uri": "https://localhost:8080/"
        },
        "id": "3trzLfoEgGPS",
        "outputId": "9bdec779-0a9a-43b9-9d3d-440f51997d4a"
      },
      "execution_count": 23,
      "outputs": [
        {
          "output_type": "execute_result",
          "data": {
            "text/plain": [
              "0.0003864646620220608"
            ]
          },
          "metadata": {},
          "execution_count": 23
        }
      ]
    },
    {
      "cell_type": "code",
      "execution_count": 24,
      "metadata": {
        "colab": {
          "base_uri": "https://localhost:8080/",
          "height": 599
        },
        "id": "OdF3N51SCtRI",
        "outputId": "24dbb4f2-fe0e-448a-83e3-494554710c2b"
      },
      "outputs": [
        {
          "output_type": "stream",
          "name": "stdout",
          "text": [
            "max probability: 0.017156897354060126\n",
            "min probability: 4.240753849626912e-199\n",
            "log max probability: -4.065355008142807\n",
            "log min probability: -456.7696924576515\n"
          ]
        },
        {
          "output_type": "display_data",
          "data": {
            "text/plain": [
              "<Figure size 700x600 with 2 Axes>"
            ],
            "image/png": "[encoded data removed]"
          },
          "metadata": {}
        }
      ],
      "source": [
        "params = {\n",
        "   'axes.labelsize': 12,\n",
        "   'legend.fontsize': 12,\n",
        "   'xtick.labelsize': 10,\n",
        "   'ytick.labelsize': 10,\n",
        "   'text.usetex': False,\n",
        "   'figure.figsize': [7.0, 6.0]\n",
        "   }\n",
        "plt.rcParams.update(params)\n",
        "\n",
        "print(\"max probability:\", raw_kde_probability.max())\n",
        "print(\"min probability:\",raw_kde_probability.min())\n",
        "\n",
        "print(\"log max probability:\", np.log(raw_kde_probability.max()))\n",
        "print(\"log min probability:\", np.log(raw_kde_probability.min()))\n",
        "\n",
        "plt.contourf(x, y, raw_kde_probability.reshape([120,120]))\n",
        "plt.colorbar()\n",
        "plt.savefig(\"arcdsdmkde.pdf\")"
      ]
    },
    {
      "cell_type": "markdown",
      "metadata": {
        "id": "K2j4pUnznY0D"
      },
      "source": [
        "# Q-DEMDE method"
      ]
    },
    {
      "cell_type": "code",
      "source": [
        "sigma_kernel_training = 1\n",
        "gamma_kernel_training = 1/(2*sigma_kernel_training**2)\n",
        "\n",
        "print(sigma_kernel_training, gamma_kernel_training)"
      ],
      "metadata": {
        "colab": {
          "base_uri": "https://localhost:8080/"
        },
        "id": "Rg6BrtMOkteh",
        "outputId": "82cfa5f7-35bf-4afd-892d-1b693bac73d5"
      },
      "execution_count": 107,
      "outputs": [
        {
          "output_type": "stream",
          "name": "stdout",
          "text": [
            "1 0.5\n"
          ]
        }
      ]
    },
    {
      "cell_type": "code",
      "source": [
        "### training with gaussian training data set\n",
        "def gaussian_kernel_data(dim_x_param, size_data_param, gamma_train_param = 0.5):\n",
        "  X_3_temp = np.random.multivariate_normal(mean = np.zeros(2), cov = (1/(2*gamma_train_param*dim_x_param))*np.identity(dim_x_param), size = size_data_param)\n",
        "  X_4_temp = np.zeros((40_000, 2))\n",
        "  return X_3_temp, X_4_temp\n",
        "\n",
        "X_3, X_4 = gaussian_kernel_data(2, 40000)\n",
        "\n",
        "X_3.shape, X_4.shape"
      ],
      "metadata": {
        "colab": {
          "base_uri": "https://localhost:8080/"
        },
        "id": "ze7wbIKMO06-",
        "outputId": "903d67dc-1607-4bbb-cf76-80f5538f5484"
      },
      "execution_count": 108,
      "outputs": [
        {
          "output_type": "execute_result",
          "data": {
            "text/plain": [
              "((40000, 2), (40000, 2))"
            ]
          },
          "metadata": {},
          "execution_count": 108
        }
      ]
    },
    {
      "cell_type": "code",
      "execution_count": 109,
      "metadata": {
        "colab": {
          "base_uri": "https://localhost:8080/"
        },
        "id": "P60xLY41ms5P",
        "outputId": "606f678e-dac9-4fe5-bd75-a07d04917fc6"
      },
      "outputs": [
        {
          "output_type": "stream",
          "name": "stderr",
          "text": [
            "WARNING:tensorflow:You are casting an input of type complex64 to an incompatible dtype float32.  This will discard the imaginary part and may not be what you intended.\n",
            "WARNING:tensorflow:You are casting an input of type complex64 to an incompatible dtype float32.  This will discard the imaginary part and may not be what you intended.\n"
          ]
        },
        {
          "output_type": "stream",
          "name": "stdout",
          "text": [
            "157/157 [==============================] - 0s 2ms/step\n"
          ]
        },
        {
          "output_type": "execute_result",
          "data": {
            "text/plain": [
              "array([0.4759688 , 0.7868149 , 0.3665289 , ..., 0.9494462 , 0.45847222,\n",
              "       0.3412906 ], dtype=float32)"
            ]
          },
          "metadata": {},
          "execution_count": 109
        }
      ],
      "source": [
        "n_rffs = 16\n",
        "dmrff = DMRFF(dim_x=2, num_rff=n_rffs, gamma=gamma_kernel_training, random_state=15)\n",
        "dmrff.predict(np.concatenate([X_3[:, np.newaxis, ...],\n",
        "                                         X_4[:, np.newaxis, ...]],\n",
        "                                        axis=1),\n",
        "                         batch_size=256)"
      ]
    },
    {
      "cell_type": "code",
      "execution_count": 110,
      "metadata": {
        "colab": {
          "base_uri": "https://localhost:8080/"
        },
        "id": "H0iAcPgDzXxn",
        "outputId": "dc71009a-ccae-43f7-d3cf-4cc7d745acc9"
      },
      "outputs": [
        {
          "output_type": "stream",
          "name": "stdout",
          "text": [
            "Weights: <tf.Variable 'dmrff_4/q_feature_map_comp_adapt_rff_4/rff_weights:0' shape=(2, 16) dtype=float32, numpy=\n",
            "array([[-0.3123285 ,  0.33928472, -0.15590854, -0.5017897 ,  0.2355689 ,\n",
            "        -1.7636052 , -1.095862  , -1.0877657 , -0.30517006, -0.4737484 ,\n",
            "        -0.20059454,  0.35519677,  0.68951774,  0.41058967, -0.5649784 ,\n",
            "         0.5993907 ],\n",
            "       [-0.1629363 ,  1.6002145 ,  0.6816272 ,  0.0148801 , -0.08777963,\n",
            "        -0.98211783,  0.12169048, -1.1374373 ,  0.34900257, -1.8585131 ,\n",
            "        -1.1671818 ,  1.4248968 ,  1.4965653 ,  1.289932  , -1.8117453 ,\n",
            "        -1.4983072 ]], dtype=float32)>\n"
          ]
        }
      ],
      "source": [
        "print(f'Weights: {dmrff.rff_layer.rff_weights}')"
      ]
    },
    {
      "cell_type": "code",
      "source": [
        "weights_qrff = dmrff.rff_layer.rff_weights.numpy()\n",
        "\n",
        "weights_qrff.mean(), weights_qrff.std()"
      ],
      "metadata": {
        "colab": {
          "base_uri": "https://localhost:8080/"
        },
        "id": "KhWj2x_PdI-7",
        "outputId": "d24e518a-6743-4864-fcd7-f1b04b42d523"
      },
      "execution_count": 111,
      "outputs": [
        {
          "output_type": "execute_result",
          "data": {
            "text/plain": [
              "(-0.17373163, 0.9455772)"
            ]
          },
          "metadata": {},
          "execution_count": 111
        }
      ]
    },
    {
      "cell_type": "code",
      "execution_count": 112,
      "metadata": {
        "colab": {
          "base_uri": "https://localhost:8080/"
        },
        "id": "KDjdOWcTnpkG",
        "outputId": "e31a7a46-8e3b-41ed-c7c9-26c2c1d4a3a6"
      },
      "outputs": [
        {
          "output_type": "execute_result",
          "data": {
            "text/plain": [
              "((60000, 2, 2), (60000,))"
            ]
          },
          "metadata": {},
          "execution_count": 112
        }
      ],
      "source": [
        "def gauss_kernel_arr(x, y, gamma_param):\n",
        "    return onp.exp(-gamma_param * onp.linalg.norm(x - y, axis=1) ** 2)\n",
        "\n",
        "num_samples = 60_000 # num_samples original = 10000\n",
        "rnd_idx1 = onp.random.randint(X_3.shape[0],size=(num_samples, ))\n",
        "rnd_idx2 = onp.random.randint(X_4.shape[0],size=(num_samples, ))\n",
        "x_train = onp.concatenate([X_3[rnd_idx1][:, onp.newaxis, ...],\n",
        "                          X_4[rnd_idx2][:, onp.newaxis, ...]],\n",
        "                         axis=1)\n",
        "\n",
        "y_train = gauss_kernel_arr(x_train[:, 0, ...], x_train[:, 1, ...], gamma_param=gamma_kernel_training)\n",
        "\n",
        "x_train.shape, y_train.shape"
      ]
    },
    {
      "cell_type": "code",
      "execution_count": 113,
      "metadata": {
        "colab": {
          "base_uri": "https://localhost:8080/"
        },
        "id": "4Prbak5oncK_",
        "outputId": "1de96ba2-0588-43bf-b180-bdb4ff12bf59"
      },
      "outputs": [
        {
          "output_type": "stream",
          "name": "stdout",
          "text": [
            "Epoch 1/2\n"
          ]
        },
        {
          "output_type": "stream",
          "name": "stderr",
          "text": [
            "WARNING:tensorflow:You are casting an input of type complex64 to an incompatible dtype float32.  This will discard the imaginary part and may not be what you intended.\n",
            "WARNING:tensorflow:You are casting an input of type complex64 to an incompatible dtype float32.  This will discard the imaginary part and may not be what you intended.\n"
          ]
        },
        {
          "output_type": "stream",
          "name": "stdout",
          "text": [
            "12000/12000 [==============================] - 26s 2ms/step - loss: 5.1369e-04\n",
            "Epoch 2/2\n",
            "12000/12000 [==============================] - 25s 2ms/step - loss: 2.0246e-06\n"
          ]
        },
        {
          "output_type": "execute_result",
          "data": {
            "text/plain": [
              "<keras.src.callbacks.History at 0x7ac7fde6a1d0>"
            ]
          },
          "metadata": {},
          "execution_count": 113
        }
      ],
      "source": [
        "epochs = 2\n",
        "opt = keras.optimizers.Adam(learning_rate=0.001)\n",
        "dmrff.compile(optimizer=opt, loss=\"mse\")\n",
        "dmrff.fit(x_train, y_train, batch_size = 5, epochs=epochs)"
      ]
    },
    {
      "cell_type": "code",
      "execution_count": 114,
      "metadata": {
        "colab": {
          "base_uri": "https://localhost:8080/"
        },
        "id": "5NBcN1wgnYKR",
        "outputId": "77615ddf-5bc3-4705-eaf2-1a62a8bfb41d"
      },
      "outputs": [
        {
          "output_type": "stream",
          "name": "stdout",
          "text": [
            "Weights: <tf.Variable 'dmrff_4/q_feature_map_comp_adapt_rff_4/rff_weights:0' shape=(2, 16) dtype=float32, numpy=\n",
            "array([[-0.569305  , -0.3433369 , -0.31549317, -0.72607255,  0.85154647,\n",
            "        -2.5360482 , -1.4064528 , -1.2049029 , -0.4180067 , -0.55191123,\n",
            "         0.56638855,  0.08291645,  1.2989603 ,  0.6713245 , -0.6254895 ,\n",
            "         1.3688862 ],\n",
            "       [-0.05604427,  1.949814  ,  0.05529084,  0.1060679 , -0.44210568,\n",
            "        -0.375105  ,  0.8151098 , -0.7672116 , -0.03516449, -1.7303989 ,\n",
            "        -0.6203068 ,  0.48254701,  1.3401875 , -0.01020445, -1.527573  ,\n",
            "        -1.7596936 ]], dtype=float32)>\n"
          ]
        }
      ],
      "source": [
        "print(f'Weights: {dmrff.rff_layer.rff_weights}')"
      ]
    },
    {
      "cell_type": "code",
      "source": [
        "weights_qaff = dmrff.rff_layer.rff_weights.numpy()\n",
        "\n",
        "weights_qaff.mean(), weights_qaff.std()"
      ],
      "metadata": {
        "colab": {
          "base_uri": "https://localhost:8080/"
        },
        "id": "secPGwFpfbRn",
        "outputId": "29a9dcd8-c867-47b3-e5a6-98d3b489ab5a"
      },
      "execution_count": 115,
      "outputs": [
        {
          "output_type": "execute_result",
          "data": {
            "text/plain": [
              "(-0.20099336, 0.9971891)"
            ]
          },
          "metadata": {},
          "execution_count": 115
        }
      ]
    },
    {
      "cell_type": "markdown",
      "source": [
        "## Q-DEMDE QRFF"
      ],
      "metadata": {
        "id": "aswp8diZ3OTe"
      }
    },
    {
      "cell_type": "code",
      "execution_count": 116,
      "metadata": {
        "colab": {
          "base_uri": "https://localhost:8080/"
        },
        "outputId": "feb1325d-7c0e-4751-ef82-dd8d450847db",
        "id": "BsSV6FPT3dLX"
      },
      "outputs": [
        {
          "output_type": "execute_result",
          "data": {
            "text/plain": [
              "((28000, 16), (14400, 16))"
            ]
          },
          "metadata": {},
          "execution_count": 116
        }
      ],
      "source": [
        "## Make predictions\n",
        "# 16 features\n",
        "\n",
        "gamma_feat = 2.0\n",
        "\n",
        "weights_rff_temp = weights_qrff\n",
        "\n",
        "def predict_features(X, var2, gamma_param):\n",
        "  X_feat = onp.ones((len(X), var2.shape[1]), dtype = onp.complex128)\n",
        "  X_feat[:, :] = onp.cos(np.sqrt(gamma_param)*(X @ var2)) - 1j*onp.sin(np.sqrt(gamma_param)*(X @ var2))\n",
        "  X_feat *= onp.sqrt(1/(var2.shape[1]))\n",
        "  return X_feat\n",
        "\n",
        "X_feat_train = predict_features(train_set, weights_rff_temp, gamma_feat)\n",
        "X_feat_test = predict_features(X_plot, weights_rff_temp, gamma_feat)\n",
        "\n",
        "X_feat_train.shape, X_feat_test.shape"
      ]
    },
    {
      "cell_type": "code",
      "execution_count": 117,
      "metadata": {
        "colab": {
          "base_uri": "https://localhost:8080/"
        },
        "outputId": "e42ed6f2-634e-46e5-b2b5-b604a8303a8b",
        "id": "yiBcZn1N3dLf"
      },
      "outputs": [
        {
          "output_type": "execute_result",
          "data": {
            "text/plain": [
              "1.0000000034098266"
            ]
          },
          "metadata": {},
          "execution_count": 117
        }
      ],
      "source": [
        "## Training\n",
        "rho_train = onp.zeros((n_rffs, n_rffs))\n",
        "\n",
        "for i in range(len(X_feat_train)):\n",
        "  rho_train = rho_train + onp.outer(X_feat_train[i], onp.conjugate(X_feat_train[i]))\n",
        "\n",
        "rho_train = rho_train / len(X_feat_train)\n",
        "\n",
        "(onp.abs(X_feat_train[0])**2).sum()"
      ]
    },
    {
      "cell_type": "markdown",
      "source": [
        "### QDMKDE circuit"
      ],
      "metadata": {
        "id": "W1kwMJudshl0"
      }
    },
    {
      "cell_type": "code",
      "source": [
        "num_qubits_temp = 2*int(np.log2(n_rffs))\n",
        "\n",
        "dev_dmkde = qml.device(\"lightning.qubit\", wires = 2*num_qubits_temp)\n",
        "\n",
        "@qml.qnode(dev_dmkde)\n",
        "def QDMKDE(x_test, U_train, lambda_train):\n",
        "    upper_wires = [i for i in range(int(num_qubits_temp/2))]\n",
        "    lower_wires = [i for i in range(int(num_qubits_temp/2), int(num_qubits_temp))]\n",
        "    qml.MottonenStatePreparation(state_vector=x_test, wires=upper_wires)\n",
        "    qml.MottonenStatePreparation(state_vector=np.sqrt(lambda_train), wires=lower_wires)\n",
        "    qml.QubitUnitary(np.conjugate(U_train.T), wires=upper_wires)\n",
        "    for i in range(int(num_qubits_temp//2)):\n",
        "      qml.CNOT([lower_wires[i], upper_wires[i]])\n",
        "\n",
        "    return qml.probs(wires=upper_wires)\n",
        "\n"
      ],
      "metadata": {
        "id": "Oaiso3ppskBg"
      },
      "execution_count": 118,
      "outputs": []
    },
    {
      "cell_type": "code",
      "source": [
        "## Predicting the density\n",
        "\n",
        "lambda_train, U_train = np.linalg.eigh(rho_train)\n",
        "prob_expected_mixed = onp.zeros(len(X_feat_test))\n",
        "\n",
        "for i in range(len(prob_expected_mixed)):\n",
        "  prob_expected_mixed[i] = QDMKDE(X_feat_test[i], U_train, lambda_train)[0]\n",
        "\n",
        "prob_expected_mixed = calculate_constant_qmkde(gamma_feat/2, 2)*prob_expected_mixed\n",
        "\n",
        "\n",
        "prob_expected_mixed.shape"
      ],
      "metadata": {
        "colab": {
          "base_uri": "https://localhost:8080/"
        },
        "id": "Wn0pFBOYskBh",
        "outputId": "05ca6577-af85-4c60-82f5-ad15aeabea25"
      },
      "execution_count": 119,
      "outputs": [
        {
          "output_type": "execute_result",
          "data": {
            "text/plain": [
              "(14400,)"
            ]
          },
          "metadata": {},
          "execution_count": 119
        }
      ]
    },
    {
      "cell_type": "code",
      "execution_count": 120,
      "metadata": {
        "colab": {
          "base_uri": "https://localhost:8080/",
          "height": 599
        },
        "outputId": "c41364f0-31ea-4d30-feaa-d535f81f3eb5",
        "id": "HDSpzvOy3dLn"
      },
      "outputs": [
        {
          "output_type": "stream",
          "name": "stdout",
          "text": [
            "max probability: 0.08647314332592641\n",
            "min probability: 0.021680003670574106\n",
            "log max probability: -2.4479213950349483\n",
            "log min probability: -3.831364933103782\n"
          ]
        },
        {
          "output_type": "display_data",
          "data": {
            "text/plain": [
              "<Figure size 700x600 with 2 Axes>"
            ],
            "image/png": "[encoded data removed]"
          },
          "metadata": {}
        }
      ],
      "source": [
        "params = {\n",
        "   'axes.labelsize': 12,\n",
        "   'legend.fontsize': 12,\n",
        "   'xtick.labelsize': 10,\n",
        "   'ytick.labelsize': 10,\n",
        "   'text.usetex': False,\n",
        "   'figure.figsize': [7.0, 6.0]\n",
        "   }\n",
        "plt.rcParams.update(params)\n",
        "\n",
        "print(\"max probability:\", prob_expected_mixed.max())\n",
        "print(\"min probability:\",prob_expected_mixed.min())\n",
        "\n",
        "print(\"log max probability:\", np.log(prob_expected_mixed.max()))\n",
        "print(\"log min probability:\", np.log(prob_expected_mixed.min()))\n",
        "\n",
        "#plt.contourf(x, y, prob_expected_mixed2_rff.reshape([120,120]))\n",
        "plt.contourf(x, y, prob_expected_mixed.reshape([120,120]))\n",
        "plt.colorbar()\n",
        "plt.savefig(\"arcdmkde.pdf\")"
      ]
    },
    {
      "cell_type": "markdown",
      "source": [
        "### Metrics"
      ],
      "metadata": {
        "id": "bgywq5ngoW_k"
      }
    },
    {
      "cell_type": "code",
      "source": [
        "## K-L Divergence\n",
        "from scipy.stats import entropy\n",
        "\n",
        "# Compute KL Divergence\n",
        "kl_divergence = entropy(raw_kde_probability, prob_expected_mixed)\n",
        "\n",
        "print(\"KL Divergence:\", kl_divergence)\n"
      ],
      "metadata": {
        "colab": {
          "base_uri": "https://localhost:8080/"
        },
        "outputId": "a9f9a7e6-ee6a-4781-9df3-44b7e1743093",
        "id": "TKAhQ9NTLxeC"
      },
      "execution_count": 121,
      "outputs": [
        {
          "output_type": "stream",
          "name": "stdout",
          "text": [
            "KL Divergence: 2.3561380453095975\n"
          ]
        }
      ]
    },
    {
      "cell_type": "code",
      "source": [
        "from scipy.stats import spearmanr\n",
        "\n",
        "# Calculate the ranks of the density values\n",
        "ranks1 = np.array(raw_kde_probability).argsort().argsort()\n",
        "ranks2 = prob_expected_mixed.argsort().argsort()\n",
        "\n",
        "# Calculate the Spearman correlation\n",
        "spearman_corr, _ = spearmanr(ranks1, ranks2)\n",
        "\n",
        "print(\"Spearman Correlation:\", spearman_corr)"
      ],
      "metadata": {
        "colab": {
          "base_uri": "https://localhost:8080/"
        },
        "outputId": "7d9faf48-f355-4d8a-d62e-248bd2aea0ce",
        "id": "XLiJlG1jLxeH"
      },
      "execution_count": 122,
      "outputs": [
        {
          "output_type": "stream",
          "name": "stdout",
          "text": [
            "Spearman Correlation: 0.20839064324551818\n"
          ]
        }
      ]
    },
    {
      "cell_type": "code",
      "source": [
        "# Calculate the absolute differences at each evaluation point\n",
        "absolute_differences = np.abs(raw_kde_probability - prob_expected_mixed)\n",
        "\n",
        "# Average the absolute differences\n",
        "average_error = np.mean(absolute_differences)\n",
        "\n",
        "print(\"Mean Average Error:\", average_error)"
      ],
      "metadata": {
        "colab": {
          "base_uri": "https://localhost:8080/"
        },
        "outputId": "85ca3847-826c-467a-8ff2-7887999e4bcd",
        "id": "wrtmo9liLxeK"
      },
      "execution_count": 123,
      "outputs": [
        {
          "output_type": "stream",
          "name": "stdout",
          "text": [
            "Mean Average Error: 0.03909759228137576\n"
          ]
        }
      ]
    },
    {
      "cell_type": "markdown",
      "source": [
        "## Q-DEMDE QAFF"
      ],
      "metadata": {
        "id": "eZr532fTbSPl"
      }
    },
    {
      "cell_type": "code",
      "execution_count": 124,
      "metadata": {
        "colab": {
          "base_uri": "https://localhost:8080/"
        },
        "outputId": "10cf3462-db91-4473-eda7-8d4fb73b08f4",
        "id": "ObJ_cp8ZbSPv"
      },
      "outputs": [
        {
          "output_type": "execute_result",
          "data": {
            "text/plain": [
              "((28000, 16), (14400, 16))"
            ]
          },
          "metadata": {},
          "execution_count": 124
        }
      ],
      "source": [
        "## Make predictions\n",
        "# 16 features\n",
        "\n",
        "gamma_feat = 2.0\n",
        "\n",
        "weights_qaff_temp = weights_qaff\n",
        "\n",
        "def predict_features(X, var2, gamma_param):\n",
        "  X_feat = onp.ones((len(X), var2.shape[1]), dtype = onp.complex128)\n",
        "  X_feat[:, :] = onp.cos(np.sqrt(gamma_param)*(X @ var2)) - 1j*onp.sin(np.sqrt(gamma_param)*(X @ var2))\n",
        "  X_feat *= onp.sqrt(1/(var2.shape[1]))\n",
        "  return X_feat\n",
        "\n",
        "\n",
        "X_feat_train = predict_features(train_set, weights_qaff_temp, gamma_feat)\n",
        "X_feat_test = predict_features(X_plot, weights_qaff_temp, gamma_feat)\n",
        "\n",
        "X_feat_train.shape, X_feat_test.shape"
      ]
    },
    {
      "cell_type": "code",
      "execution_count": 125,
      "metadata": {
        "colab": {
          "base_uri": "https://localhost:8080/"
        },
        "outputId": "3f559339-b80d-4d41-8bcb-1d01ab625b28",
        "id": "0ExWXd4ibSPw"
      },
      "outputs": [
        {
          "output_type": "execute_result",
          "data": {
            "text/plain": [
              "0.9999999932182904"
            ]
          },
          "metadata": {},
          "execution_count": 125
        }
      ],
      "source": [
        "## Training\n",
        "rho_train = onp.zeros((n_rffs, n_rffs))\n",
        "\n",
        "for i in range(len(X_feat_train)):\n",
        "  rho_train = rho_train + onp.outer(X_feat_train[i], onp.conjugate(X_feat_train[i]))\n",
        "\n",
        "rho_train = rho_train / len(X_feat_train)\n",
        "\n",
        "(onp.abs(X_feat_train[0])**2).sum()"
      ]
    },
    {
      "cell_type": "markdown",
      "source": [
        "### QDMKDE circuit"
      ],
      "metadata": {
        "id": "xs70S2bEsvgx"
      }
    },
    {
      "cell_type": "code",
      "source": [
        "num_qubits_temp = 2*int(np.log2(n_rffs))\n",
        "\n",
        "dev_dmkde = qml.device(\"lightning.qubit\", wires = 2*num_qubits_temp)\n",
        "\n",
        "@qml.qnode(dev_dmkde)\n",
        "def QDMKDE(x_test, U_train, lambda_train):\n",
        "    upper_wires = [i for i in range(int(num_qubits_temp/2))]\n",
        "    lower_wires = [i for i in range(int(num_qubits_temp/2), int(num_qubits_temp))]\n",
        "    qml.MottonenStatePreparation(state_vector=x_test, wires=upper_wires)\n",
        "    qml.MottonenStatePreparation(state_vector=np.sqrt(lambda_train), wires=lower_wires)\n",
        "    qml.QubitUnitary(np.conjugate(U_train.T), wires=upper_wires)\n",
        "    for i in range(int(num_qubits_temp//2)):\n",
        "      qml.CNOT([lower_wires[i], upper_wires[i]])\n",
        "\n",
        "    return qml.probs(wires=upper_wires)\n",
        "\n"
      ],
      "metadata": {
        "id": "tzoAu8R6svgy"
      },
      "execution_count": 126,
      "outputs": []
    },
    {
      "cell_type": "code",
      "source": [
        "## Predicting the density\n",
        "\n",
        "lambda_train, U_train = np.linalg.eigh(rho_train)\n",
        "prob_expected_mixed = onp.zeros(len(X_feat_test))\n",
        "\n",
        "for i in range(len(prob_expected_mixed)):\n",
        "  prob_expected_mixed[i] = QDMKDE(X_feat_test[i], U_train, lambda_train)[0]\n",
        "\n",
        "prob_expected_mixed = calculate_constant_qmkde(gamma_feat/2, 2)*prob_expected_mixed\n",
        "\n",
        "\n",
        "prob_expected_mixed.shape"
      ],
      "metadata": {
        "colab": {
          "base_uri": "https://localhost:8080/"
        },
        "id": "wgRbqRMvsvgy",
        "outputId": "90520845-c0ab-43a7-e0d8-68a15f29f675"
      },
      "execution_count": 127,
      "outputs": [
        {
          "output_type": "execute_result",
          "data": {
            "text/plain": [
              "(14400,)"
            ]
          },
          "metadata": {},
          "execution_count": 127
        }
      ]
    },
    {
      "cell_type": "code",
      "execution_count": 128,
      "metadata": {
        "colab": {
          "base_uri": "https://localhost:8080/",
          "height": 599
        },
        "outputId": "3e74a5f3-1754-4f00-bf16-733931297a52",
        "id": "SF8VcaAybSPw"
      },
      "outputs": [
        {
          "output_type": "stream",
          "name": "stdout",
          "text": [
            "max probability: 0.07692614235394625\n",
            "min probability: 0.023561087290365452\n",
            "log max probability: -2.5649095076542494\n",
            "log min probability: -3.74815877141789\n"
          ]
        },
        {
          "output_type": "display_data",
          "data": {
            "text/plain": [
              "<Figure size 700x600 with 2 Axes>"
            ],
            "image/png": "[encoded data removed]"
          },
          "metadata": {}
        }
      ],
      "source": [
        "params = {\n",
        "   'axes.labelsize': 12,\n",
        "   'legend.fontsize': 12,\n",
        "   'xtick.labelsize': 10,\n",
        "   'ytick.labelsize': 10,\n",
        "   'text.usetex': False,\n",
        "   'figure.figsize': [7.0, 6.0]\n",
        "   }\n",
        "plt.rcParams.update(params)\n",
        "\n",
        "print(\"max probability:\", prob_expected_mixed.max())\n",
        "print(\"min probability:\",prob_expected_mixed.min())\n",
        "\n",
        "print(\"log max probability:\", np.log(prob_expected_mixed.max()))\n",
        "print(\"log min probability:\", np.log(prob_expected_mixed.min()))\n",
        "\n",
        "plt.contourf(x, y, prob_expected_mixed.reshape([120,120]))\n",
        "plt.colorbar()\n",
        "plt.savefig(\"arcdmkde.pdf\")"
      ]
    },
    {
      "cell_type": "markdown",
      "source": [
        "### Metrics"
      ],
      "metadata": {
        "id": "Fa7KylBAZPEH"
      }
    },
    {
      "cell_type": "code",
      "source": [
        "## K-L Divergence\n",
        "from scipy.stats import entropy\n",
        "\n",
        "# Compute KL Divergence\n",
        "kl_divergence = entropy(raw_kde_probability, prob_expected_mixed)\n",
        "\n",
        "print(\"KL Divergence:\", kl_divergence)\n"
      ],
      "metadata": {
        "colab": {
          "base_uri": "https://localhost:8080/"
        },
        "outputId": "d4100393-173b-4456-db9e-79ba1b42fae7",
        "id": "IE2SvpTZZPEb"
      },
      "execution_count": 129,
      "outputs": [
        {
          "output_type": "stream",
          "name": "stdout",
          "text": [
            "KL Divergence: 2.4331020412872886\n"
          ]
        }
      ]
    },
    {
      "cell_type": "code",
      "source": [
        "from scipy.stats import spearmanr\n",
        "\n",
        "# Calculate the ranks of the density values\n",
        "ranks1 = np.array(raw_kde_probability).argsort().argsort()\n",
        "ranks2 = prob_expected_mixed.argsort().argsort()\n",
        "\n",
        "# Calculate the Spearman correlation\n",
        "spearman_corr, _ = spearmanr(ranks2, ranks1)\n",
        "\n",
        "print(\"Spearman Correlation:\", spearman_corr)"
      ],
      "metadata": {
        "colab": {
          "base_uri": "https://localhost:8080/"
        },
        "outputId": "e34a8714-5fde-4022-e6ca-8bc8b5a241fd",
        "id": "K-LeWoinZPEc"
      },
      "execution_count": 130,
      "outputs": [
        {
          "output_type": "stream",
          "name": "stdout",
          "text": [
            "Spearman Correlation: 0.25245161495684615\n"
          ]
        }
      ]
    },
    {
      "cell_type": "code",
      "source": [
        "# Calculate the absolute differences at each evaluation point\n",
        "absolute_differences = np.abs(raw_kde_probability - prob_expected_mixed)\n",
        "\n",
        "# Average the absolute differences\n",
        "average_error = np.mean(absolute_differences)\n",
        "\n",
        "print(\"Mean Average Error:\", average_error)"
      ],
      "metadata": {
        "colab": {
          "base_uri": "https://localhost:8080/"
        },
        "outputId": "d3e212e1-a642-4818-f2fc-96b104f56a40",
        "id": "PZPQq4ArZPEc"
      },
      "execution_count": 131,
      "outputs": [
        {
          "output_type": "stream",
          "name": "stdout",
          "text": [
            "Mean Average Error: 0.03989223131452955\n"
          ]
        }
      ]
    }
  ]
}