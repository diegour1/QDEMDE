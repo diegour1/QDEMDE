{
  "nbformat": 4,
  "nbformat_minor": 0,
  "metadata": {
    "colab": {
      "provenance": []
    },
    "kernelspec": {
      "name": "python3",
      "display_name": "Python 3"
    },
    "language_info": {
      "name": "python"
    }
  },
  "cells": [
    {
      "cell_type": "markdown",
      "metadata": {
        "id": "_WrmF0VsKbey"
      },
      "source": [
        "## Quantum-classical anomaly detection with QDEMDE"
      ]
    },
    {
      "cell_type": "markdown",
      "metadata": {
        "id": "FrAbmHBdYTbI"
      },
      "source": [
        "## Libraries"
      ]
    },
    {
      "cell_type": "code",
      "execution_count": null,
      "metadata": {
        "colab": {
          "base_uri": "https://localhost:8080/"
        },
        "id": "sCkbWetPXn6-",
        "outputId": "83702107-6e49-4f27-f7cc-6dd507c1484d"
      },
      "outputs": [
        {
          "output_type": "stream",
          "name": "stdout",
          "text": [
            "Collecting pennylane\n",
            "  Downloading PennyLane-0.34.0-py3-none-any.whl (1.6 MB)\n",
            "\u001b[2K     \u001b[90m━━━━━━━━━━━━━━━━━━━━━━━━━━━━━━━━━━━━━━━━\u001b[0m \u001b[32m1.6/1.6 MB\u001b[0m \u001b[31m5.8 MB/s\u001b[0m eta \u001b[36m0:00:00\u001b[0m\n",
            "\u001b[?25hRequirement already satisfied: numpy in /usr/local/lib/python3.10/dist-packages (from pennylane) (1.25.2)\n",
            "Requirement already satisfied: scipy in /usr/local/lib/python3.10/dist-packages (from pennylane) (1.11.4)\n",
            "Requirement already satisfied: networkx in /usr/local/lib/python3.10/dist-packages (from pennylane) (3.2.1)\n",
            "Collecting rustworkx (from pennylane)\n",
            "  Downloading rustworkx-0.14.1-cp310-cp310-manylinux_2_17_x86_64.manylinux2014_x86_64.whl (2.1 MB)\n",
            "\u001b[2K     \u001b[90m━━━━━━━━━━━━━━━━━━━━━━━━━━━━━━━━━━━━━━━━\u001b[0m \u001b[32m2.1/2.1 MB\u001b[0m \u001b[31m9.6 MB/s\u001b[0m eta \u001b[36m0:00:00\u001b[0m\n",
            "\u001b[?25hRequirement already satisfied: autograd in /usr/local/lib/python3.10/dist-packages (from pennylane) (1.6.2)\n",
            "Requirement already satisfied: toml in /usr/local/lib/python3.10/dist-packages (from pennylane) (0.10.2)\n",
            "Requirement already satisfied: appdirs in /usr/local/lib/python3.10/dist-packages (from pennylane) (1.4.4)\n",
            "Collecting semantic-version>=2.7 (from pennylane)\n",
            "  Downloading semantic_version-2.10.0-py2.py3-none-any.whl (15 kB)\n",
            "Collecting autoray>=0.6.1 (from pennylane)\n",
            "  Downloading autoray-0.6.8-py3-none-any.whl (49 kB)\n",
            "\u001b[2K     \u001b[90m━━━━━━━━━━━━━━━━━━━━━━━━━━━━━━━━━━━━━━━━\u001b[0m \u001b[32m49.9/49.9 kB\u001b[0m \u001b[31m4.9 MB/s\u001b[0m eta \u001b[36m0:00:00\u001b[0m\n",
            "\u001b[?25hRequirement already satisfied: cachetools in /usr/local/lib/python3.10/dist-packages (from pennylane) (5.3.3)\n",
            "Collecting pennylane-lightning>=0.34 (from pennylane)\n",
            "  Downloading PennyLane_Lightning-0.34.0-cp310-cp310-manylinux_2_17_x86_64.manylinux2014_x86_64.whl (18.1 MB)\n",
            "\u001b[2K     \u001b[90m━━━━━━━━━━━━━━━━━━━━━━━━━━━━━━━━━━━━━━━━\u001b[0m \u001b[32m18.1/18.1 MB\u001b[0m \u001b[31m20.4 MB/s\u001b[0m eta \u001b[36m0:00:00\u001b[0m\n",
            "\u001b[?25hRequirement already satisfied: requests in /usr/local/lib/python3.10/dist-packages (from pennylane) (2.31.0)\n",
            "Requirement already satisfied: typing-extensions in /usr/local/lib/python3.10/dist-packages (from pennylane) (4.10.0)\n",
            "Requirement already satisfied: future>=0.15.2 in /usr/local/lib/python3.10/dist-packages (from autograd->pennylane) (0.18.3)\n",
            "Requirement already satisfied: charset-normalizer<4,>=2 in /usr/local/lib/python3.10/dist-packages (from requests->pennylane) (3.3.2)\n",
            "Requirement already satisfied: idna<4,>=2.5 in /usr/local/lib/python3.10/dist-packages (from requests->pennylane) (3.6)\n",
            "Requirement already satisfied: urllib3<3,>=1.21.1 in /usr/local/lib/python3.10/dist-packages (from requests->pennylane) (2.0.7)\n",
            "Requirement already satisfied: certifi>=2017.4.17 in /usr/local/lib/python3.10/dist-packages (from requests->pennylane) (2024.2.2)\n",
            "Installing collected packages: semantic-version, rustworkx, autoray, pennylane-lightning, pennylane\n",
            "Successfully installed autoray-0.6.8 pennylane-0.34.0 pennylane-lightning-0.34.0 rustworkx-0.14.1 semantic-version-2.10.0\n"
          ]
        }
      ],
      "source": [
        "!pip install pennylane"
      ]
    },
    {
      "cell_type": "code",
      "execution_count": null,
      "metadata": {
        "id": "DWBL78XFYR_9"
      },
      "outputs": [],
      "source": [
        "import pennylane as qml\n",
        "from pennylane import numpy as np\n",
        "import matplotlib.pyplot as plt\n",
        "from pennylane.optimize import NesterovMomentumOptimizer\n",
        "from scipy.stats import norm\n",
        "import numpy as onp\n",
        "import matplotlib.pyplot as plt\n",
        "import tensorflow as tf\n",
        "from tensorflow import keras\n",
        "import tensorflow_probability as tfp\n",
        "tfd = tfp.distributions\n",
        "tfb = tfp.bijectors\n",
        "from scipy import io\n",
        "from sklearn.metrics import roc_auc_score"
      ]
    },
    {
      "cell_type": "markdown",
      "metadata": {
        "id": "mM23KQmnLMIN"
      },
      "source": [
        "## Classical Prediction with Complex Adaptive RFF"
      ]
    },
    {
      "cell_type": "code",
      "source": [
        "import pylab as pl\n",
        "from sklearn.kernel_approximation import RBFSampler\n",
        "\n",
        "def rff_map(x, gamma, n_components, random_state=0):\n",
        "    rbf_feature = RBFSampler(gamma=gamma, n_components=n_components, random_state=random_state)\n",
        "    return rbf_feature.fit_transform(x)\n",
        "\n",
        "def gauss_kernel(x, y, gamma):\n",
        "    return np.exp(-gamma * (x - y) ** 2)"
      ],
      "metadata": {
        "id": "gcTXbKNFZgeG"
      },
      "execution_count": null,
      "outputs": []
    },
    {
      "cell_type": "code",
      "source": [
        "class QFeatureMapCompAdaptRFF(tf.keras.layers.Layer):\n",
        "\n",
        "    def __init__(\n",
        "                 self,\n",
        "                 input_dim: int,\n",
        "                 dim: int = 100,\n",
        "                 gamma: float = 1,\n",
        "                 random_state = None,\n",
        "                 gamma_trainable=False,\n",
        "                 weights_trainable=True,\n",
        "                 **kwargs\n",
        "                 ):\n",
        "        self.g_trainable = gamma_trainable\n",
        "        self.w_trainable = weights_trainable\n",
        "        super().__init__(**kwargs)\n",
        "        self.input_dim = input_dim\n",
        "        self.dim = dim\n",
        "        self.gamma = gamma\n",
        "        self.random_state = random_state\n",
        "\n",
        "    def build(self, input_shape):\n",
        "        rbf_sampler = RBFSampler(\n",
        "            gamma=0.5,\n",
        "            n_components=self.dim,\n",
        "            random_state=self.random_state)\n",
        "        x = np.zeros(shape=(1, self.input_dim))\n",
        "        rbf_sampler.fit(x)\n",
        "        self.gamma_val = tf.Variable(\n",
        "            initial_value=self.gamma,\n",
        "            dtype=tf.float32,\n",
        "            trainable=self.g_trainable,\n",
        "            name=\"rff_gamma\")\n",
        "        self.rff_weights = tf.Variable(\n",
        "            initial_value=rbf_sampler.random_weights_,\n",
        "            dtype=tf.float32,\n",
        "            trainable=self.w_trainable,\n",
        "            name=\"rff_weights\")\n",
        "        self.built = True\n",
        "\n",
        "    def call(self, inputs):\n",
        "        # Complex Adaptive RFF\n",
        "        vals = tf.sqrt(self.gamma_val) * tf.matmul(inputs, self.rff_weights)\n",
        "        vals = tf.complex(tf.cos(vals), -tf.sin(vals))\n",
        "        vals = vals * tf.cast(tf.sqrt(1. / self.dim), tf.complex64)\n",
        "        norms = tf.linalg.norm(vals, axis=-1)\n",
        "        psi = vals / tf.expand_dims(norms, axis=-1)\n",
        "        return psi\n",
        "\n",
        "\n",
        "class DMRFF(tf.keras.Model):\n",
        "    def __init__(self,\n",
        "                 dim_x,\n",
        "                 num_rff,\n",
        "                 gamma=1,\n",
        "                 random_state=None):\n",
        "        super().__init__()\n",
        "        self.rff_layer = QFeatureMapCompAdaptRFF(input_dim=dim_x, dim=num_rff, gamma=gamma, random_state=random_state, gamma_trainable=False)\n",
        "\n",
        "    def call(self, inputs):\n",
        "\n",
        "        # Complex Adaptive RFF\n",
        "        x1 = inputs[:, 0]\n",
        "        x2 = inputs[:, 1]\n",
        "        phi1 = self.rff_layer(x1)\n",
        "        phi2 = self.rff_layer(x2)\n",
        "        dot = tf.einsum('...i,...i->...', tf.math.conj(phi1), phi2) * tf.einsum('...i,...i->...', tf.math.conj(phi2), phi1)\n",
        "        dot = tf.cast(dot, tf.float32)\n",
        "        return dot\n",
        "\n",
        "def calc_rbf(dmrff, x1, x2):\n",
        "    return dmrff.predict(np.concatenate([x1[:, np.newaxis, ...],\n",
        "                                         x2[:, np.newaxis, ...]],\n",
        "                                        axis=1),\n",
        "                         batch_size=256)"
      ],
      "metadata": {
        "id": "S5-Zz7IGV1Lp"
      },
      "execution_count": null,
      "outputs": []
    },
    {
      "cell_type": "markdown",
      "metadata": {
        "id": "B54BPubGf3gv"
      },
      "source": [
        "# 2 Dimensions"
      ]
    },
    {
      "cell_type": "code",
      "execution_count": null,
      "metadata": {
        "id": "_otU_RLEoOh9"
      },
      "outputs": [],
      "source": [
        "def calculate_constant_qmkde(gamma=1, dimension = 1):\n",
        "  sigma = (4*gamma)**(-1/2)\n",
        "  coefficient = 1 /  (2*np.pi*sigma**2)**(dimension/2)\n",
        "  return coefficient"
      ]
    },
    {
      "cell_type": "code",
      "execution_count": null,
      "metadata": {
        "id": "vfjXhFB_dj6d"
      },
      "outputs": [],
      "source": [
        "def calculate_constant_log_qmkde(gamma=1, dimension = 1):\n",
        "  sigma = (4*gamma)**(-1/2)\n",
        "  coefficient = np.log(1) - (dimension/2.) *   np.log(2*np.pi*sigma**2)\n",
        "  return coefficient"
      ]
    },
    {
      "cell_type": "code",
      "execution_count": null,
      "metadata": {
        "id": "QiCt32btP4NW"
      },
      "outputs": [],
      "source": [
        "def raw_kde(x_test, x_train, gamma=1):\n",
        "  sigma = (2*gamma)**(-1/2)\n",
        "  euclidean_distance = np.sum(((x_test-x_train))**2, axis=1)\n",
        "  exponential  = np.exp(-euclidean_distance/(2*sigma**2))\n",
        "  constant_outside = 1/(np.size(x_train) * (2*np.pi*sigma**2)**(x_train.shape[1]/2))\n",
        "  return constant_outside * np.sum(exponential)"
      ]
    },
    {
      "cell_type": "code",
      "execution_count": null,
      "metadata": {
        "id": "ephZxuWQdvL_"
      },
      "outputs": [],
      "source": [
        "def raw_log_kde(x_test, x_train, gamma=1):\n",
        "  sigma = (2*gamma)**(-1/2)\n",
        "  euclidean_distance = np.sum(((x_test-x_train))**2, axis=1)\n",
        "  exponential  = np.exp(-euclidean_distance/(2*sigma**2))\n",
        "  constant_outside = np.log(1) - np.log(np.size(x_train)) - (x_train.shape[1]/2) * np.log(2*np.pi*sigma**2)\n",
        "  return constant_outside + np.log(np.sum(exponential))"
      ]
    },
    {
      "cell_type": "code",
      "source": [
        "def plot(X_train, X_train_density, X_test, X_test_density, name = \"dataset\"):\n",
        "    plt.axes(frameon = 0)\n",
        "    plt.grid()\n",
        "    plt.scatter(X_test[:,0],  X_test[:,1], c = X_test_density , alpha = .5, s = 3, linewidths= 0.0000001)\n",
        "    plt.colorbar()\n",
        "    plt.title('potential 1 dataset')\n",
        "    plt.savefig(f'{name}.png',dpi = 300)\n",
        "    plt.show()"
      ],
      "metadata": {
        "id": "EVY6UhNSXdvu"
      },
      "execution_count": null,
      "outputs": []
    },
    {
      "cell_type": "markdown",
      "metadata": {
        "id": "Al7tlaJVKv4I"
      },
      "source": [
        "## Loading Cardio Data Set"
      ]
    },
    {
      "cell_type": "code",
      "execution_count": null,
      "metadata": {
        "colab": {
          "base_uri": "https://localhost:8080/"
        },
        "id": "BYmpDUI7K_QM",
        "outputId": "d452602a-0795-4b68-eb3b-b892ff596bab"
      },
      "outputs": [
        {
          "output_type": "execute_result",
          "data": {
            "text/plain": [
              "((1831, 21), (1831, 1))"
            ]
          },
          "metadata": {},
          "execution_count": 10
        }
      ],
      "source": [
        "cardio = io.loadmat(\"/content/cardio.mat\")\n",
        "\n",
        "cardio[\"X\"].shape, cardio[\"y\"].shape"
      ]
    },
    {
      "cell_type": "code",
      "execution_count": null,
      "metadata": {
        "colab": {
          "base_uri": "https://localhost:8080/"
        },
        "id": "tL7dY4uULDDN",
        "outputId": "eee70430-81d8-494e-f38d-80ecc686ff4e"
      },
      "outputs": [
        {
          "output_type": "execute_result",
          "data": {
            "text/plain": [
              "((1831, 21), (1831, 1))"
            ]
          },
          "metadata": {},
          "execution_count": 11
        }
      ],
      "source": [
        "from sklearn.preprocessing import MinMaxScaler\n",
        "from scipy.stats import zscore\n",
        "\n",
        "def preprocessing_cardio(data):\n",
        "  features, labels = cardio[\"X\"], cardio[\"y\"]\n",
        "  labels = 1 - labels\n",
        "  return features, labels\n",
        "\n",
        "cardio_X, cardio_y = preprocessing_cardio(cardio)\n",
        "\n",
        "cardio_X.shape, cardio_y.shape"
      ]
    },
    {
      "cell_type": "code",
      "execution_count": null,
      "metadata": {
        "colab": {
          "base_uri": "https://localhost:8080/"
        },
        "id": "KpKVXeZuLYNn",
        "outputId": "23ce16f8-9822-408e-be2e-608a8520a671"
      },
      "outputs": [
        {
          "output_type": "stream",
          "name": "stdout",
          "text": [
            "shape of X_train: (1098, 21) X_test: (367, 21) X_val (366, 21)\n",
            "classes: 0: 35 1: 332 %-anomalies: 0.09536784741144415\n"
          ]
        }
      ],
      "source": [
        "from sklearn.model_selection import train_test_split\n",
        "\n",
        "X_train, X_test, y_train, y_test = train_test_split(cardio_X, cardio_y, test_size=0.2, stratify=cardio_y, random_state=42)\n",
        "X_train, X_val, y_train, y_val = train_test_split(X_train, y_train, test_size=0.25, stratify=y_train, random_state=42)\n",
        "\n",
        "print(f\"shape of X_train: {X_train.shape} X_test: {X_test.shape} X_val {X_val.shape}\")\n",
        "n_classes = np.bincount(y_test.ravel().astype(np.int64))\n",
        "\n",
        "print(f\"classes: 0: {n_classes[0]} 1: {n_classes[1]} %-anomalies: {n_classes[0] / (n_classes[0] + n_classes[1])}\")"
      ]
    },
    {
      "cell_type": "markdown",
      "metadata": {
        "id": "K2j4pUnznY0D"
      },
      "source": [
        "# Q-DEMDE method"
      ]
    },
    {
      "cell_type": "code",
      "source": [
        "sigma_kernel_training = 1\n",
        "gamma_kernel_training = 1/(2*sigma_kernel_training**2)\n",
        "\n",
        "print(sigma_kernel_training, gamma_kernel_training)"
      ],
      "metadata": {
        "colab": {
          "base_uri": "https://localhost:8080/"
        },
        "id": "Rg6BrtMOkteh",
        "outputId": "638b02e6-aff3-4375-f4d2-cb4e51c0d007"
      },
      "execution_count": null,
      "outputs": [
        {
          "output_type": "stream",
          "name": "stdout",
          "text": [
            "1 0.5\n"
          ]
        }
      ]
    },
    {
      "cell_type": "code",
      "source": [
        "### training with gaussian training data set\n",
        "def gaussian_kernel_data(dim_x_param, size_data_param, gamma_train_param = 0.5):\n",
        "  X_3_temp = np.random.multivariate_normal(mean = np.zeros(dim_x_param), cov = (1/(2*gamma_train_param*dim_x_param))*np.identity(dim_x_param), size = size_data_param)\n",
        "  X_4_temp = np.zeros((size_data_param, dim_x_param))\n",
        "  return X_3_temp, X_4_temp\n",
        "\n",
        "X_3, X_4 = gaussian_kernel_data(21, 40000)\n",
        "\n",
        "X_3.shape, X_4.shape"
      ],
      "metadata": {
        "colab": {
          "base_uri": "https://localhost:8080/"
        },
        "id": "ze7wbIKMO06-",
        "outputId": "6e5514e9-35c2-4157-879d-1daa3a9e07e3"
      },
      "execution_count": null,
      "outputs": [
        {
          "output_type": "execute_result",
          "data": {
            "text/plain": [
              "((40000, 21), (40000, 21))"
            ]
          },
          "metadata": {},
          "execution_count": 14
        }
      ]
    },
    {
      "cell_type": "code",
      "execution_count": null,
      "metadata": {
        "colab": {
          "base_uri": "https://localhost:8080/"
        },
        "id": "P60xLY41ms5P",
        "outputId": "fed47d2a-ac5a-4e9e-91ad-dc6c09cf9dcf"
      },
      "outputs": [
        {
          "output_type": "stream",
          "name": "stderr",
          "text": [
            "WARNING:tensorflow:You are casting an input of type complex64 to an incompatible dtype float32.  This will discard the imaginary part and may not be what you intended.\n",
            "WARNING:tensorflow:You are casting an input of type complex64 to an incompatible dtype float32.  This will discard the imaginary part and may not be what you intended.\n"
          ]
        },
        {
          "output_type": "stream",
          "name": "stdout",
          "text": [
            "157/157 [==============================] - 1s 2ms/step\n"
          ]
        },
        {
          "output_type": "execute_result",
          "data": {
            "text/plain": [
              "array([0.52968204, 0.33350894, 0.68856066, ..., 0.3486627 , 0.11897445,\n",
              "       0.5545847 ], dtype=float32)"
            ]
          },
          "metadata": {},
          "execution_count": 15
        }
      ],
      "source": [
        "n_rffs = 8\n",
        "dmrff = DMRFF(dim_x=21, num_rff=n_rffs, gamma=gamma_kernel_training, random_state=onp.random.randint(1, 10000))\n",
        "dmrff.predict(np.concatenate([X_3[:, np.newaxis, ...],\n",
        "                                         X_4[:, np.newaxis, ...]],\n",
        "                                        axis=1),\n",
        "                         batch_size=256)"
      ]
    },
    {
      "cell_type": "code",
      "execution_count": null,
      "metadata": {
        "colab": {
          "base_uri": "https://localhost:8080/"
        },
        "id": "H0iAcPgDzXxn",
        "outputId": "d014b130-e10b-4a34-e0be-c8f9f39dc734"
      },
      "outputs": [
        {
          "output_type": "stream",
          "name": "stdout",
          "text": [
            "Weights: <tf.Variable 'dmrff/q_feature_map_comp_adapt_rff/rff_weights:0' shape=(21, 8) dtype=float32, numpy=\n",
            "array([[ 0.08058767, -0.50622344,  1.3648977 ,  0.12518477,  0.07727975,\n",
            "         0.4959615 ,  1.7104647 ,  0.19181785],\n",
            "       [-1.4302924 , -1.8972341 ,  2.5498772 , -0.03586077, -0.882153  ,\n",
            "        -1.2816674 , -0.03416796, -0.6509322 ],\n",
            "       [-0.9165925 ,  0.557703  , -0.3102901 ,  0.5750356 , -0.53722644,\n",
            "        -0.8341377 ,  0.3218192 ,  0.20978394],\n",
            "       [ 0.5246806 ,  0.8734697 , -1.1063647 , -0.52808464,  0.6800926 ,\n",
            "         1.723438  ,  2.1215048 ,  1.0764236 ],\n",
            "       [-1.0507231 ,  1.0122007 ,  1.0335882 , -0.1637971 ,  0.19543597,\n",
            "        -0.5450009 ,  1.3252821 , -1.7506152 ],\n",
            "       [-0.22328497, -1.0036465 , -0.7581642 ,  1.065141  ,  0.34329134,\n",
            "         0.06904334,  0.5258007 , -1.0267732 ],\n",
            "       [-1.5053595 , -0.11510926,  0.02895894, -1.0526949 , -0.08753666,\n",
            "         1.9513191 ,  1.9881548 ,  0.40705755],\n",
            "       [ 0.25365332,  0.4068337 ,  1.6755865 , -1.18204   ,  1.2581674 ,\n",
            "         0.15851146,  1.1026037 , -1.0239193 ],\n",
            "       [-1.0637648 , -0.35296515, -0.21858397,  0.02136525, -0.6356472 ,\n",
            "        -0.43278366, -0.12048833,  0.29171377],\n",
            "       [-0.43451142,  0.50308156,  0.48148286,  0.76141167,  0.86028963,\n",
            "         0.8946863 ,  1.9380972 ,  0.7817397 ],\n",
            "       [ 0.32860655, -0.9030549 , -0.7460743 ,  0.8049914 , -0.35341394,\n",
            "         0.9054311 ,  0.67407805, -0.19283101],\n",
            "       [-0.7665833 ,  0.6098791 , -0.6987742 ,  1.3777065 , -0.10411781,\n",
            "        -1.2579552 ,  0.650176  ,  3.1088555 ],\n",
            "       [ 1.0474113 , -0.12804534,  0.6962771 , -0.60639197, -0.12782432,\n",
            "        -1.074519  ,  1.5486854 ,  1.874396  ],\n",
            "       [-0.5077329 ,  0.84487754, -0.8382586 ,  0.28836405, -0.21543583,\n",
            "         1.2641362 ,  0.60591143,  0.6198084 ],\n",
            "       [-0.95778453,  0.64070934,  2.1757362 ,  0.9318092 ,  1.1680255 ,\n",
            "        -0.43054423,  0.9749152 , -0.01961943],\n",
            "       [-0.5956828 ,  0.854148  , -0.34235066,  1.0244672 ,  0.43517953,\n",
            "        -0.41333994, -0.3069749 , -1.9837174 ],\n",
            "       [ 1.1417937 ,  0.42876658,  0.31286135, -0.01320178, -0.5288535 ,\n",
            "         1.5810131 , -0.13146941, -1.089088  ],\n",
            "       [ 0.5875057 ,  0.47915784, -0.13168275, -0.6179982 , -0.13083872,\n",
            "        -0.5957512 ,  1.3378121 , -0.11359556],\n",
            "       [ 0.3647397 , -0.6997442 ,  1.5454737 ,  0.5209795 ,  0.9996874 ,\n",
            "        -1.182377  ,  0.11773504,  0.93169665],\n",
            "       [ 0.01469024,  1.0396458 , -0.58322525,  0.57329506,  0.8475373 ,\n",
            "        -0.5793149 ,  1.2045118 ,  1.7975786 ],\n",
            "       [ 1.7430828 , -1.4202392 , -2.087065  ,  0.6491392 , -0.43829876,\n",
            "         2.1632178 ,  0.02253481,  1.4706322 ]], dtype=float32)>\n"
          ]
        }
      ],
      "source": [
        "print(f'Weights: {dmrff.rff_layer.rff_weights}')"
      ]
    },
    {
      "cell_type": "code",
      "source": [
        "weights_qrff = dmrff.rff_layer.rff_weights.numpy()\n",
        "\n",
        "weights_qrff.mean(), weights_qrff.std()"
      ],
      "metadata": {
        "colab": {
          "base_uri": "https://localhost:8080/"
        },
        "id": "KhWj2x_PdI-7",
        "outputId": "8ad75d04-27b9-4f39-bf0f-33c79b50cdad"
      },
      "execution_count": null,
      "outputs": [
        {
          "output_type": "execute_result",
          "data": {
            "text/plain": [
              "(0.2042368, 0.9653771)"
            ]
          },
          "metadata": {},
          "execution_count": 17
        }
      ]
    },
    {
      "cell_type": "code",
      "execution_count": null,
      "metadata": {
        "colab": {
          "base_uri": "https://localhost:8080/"
        },
        "id": "KDjdOWcTnpkG",
        "outputId": "c5f29b4a-37f9-4ac5-8642-91bea1c83c4f"
      },
      "outputs": [
        {
          "output_type": "execute_result",
          "data": {
            "text/plain": [
              "((60000, 2, 21), (60000,))"
            ]
          },
          "metadata": {},
          "execution_count": 18
        }
      ],
      "source": [
        "def gauss_kernel_arr(x, y, gamma_param):\n",
        "    return onp.exp(-gamma_param * onp.linalg.norm(x - y, axis=1) ** 2)\n",
        "\n",
        "num_samples = 60_000 # num_samples original = 10000\n",
        "rnd_idx1 = onp.random.randint(X_3.shape[0],size=(num_samples, ))\n",
        "rnd_idx2 = onp.random.randint(X_4.shape[0],size=(num_samples, ))\n",
        "x_train = onp.concatenate([X_3[rnd_idx1][:, onp.newaxis, ...],\n",
        "                          X_4[rnd_idx2][:, onp.newaxis, ...]],\n",
        "                         axis=1)\n",
        "\n",
        "y_train = gauss_kernel_arr(x_train[:, 0, ...], x_train[:, 1, ...], gamma_param=gamma_kernel_training)\n",
        "\n",
        "x_train.shape, y_train.shape"
      ]
    },
    {
      "cell_type": "code",
      "execution_count": null,
      "metadata": {
        "colab": {
          "base_uri": "https://localhost:8080/"
        },
        "id": "4Prbak5oncK_",
        "outputId": "3e53644d-fe7e-435b-c59a-c46c1643fcdf"
      },
      "outputs": [
        {
          "output_type": "stream",
          "name": "stdout",
          "text": [
            "Epoch 1/4\n"
          ]
        },
        {
          "output_type": "stream",
          "name": "stderr",
          "text": [
            "WARNING:tensorflow:You are casting an input of type complex64 to an incompatible dtype float32.  This will discard the imaginary part and may not be what you intended.\n",
            "WARNING:tensorflow:You are casting an input of type complex64 to an incompatible dtype float32.  This will discard the imaginary part and may not be what you intended.\n"
          ]
        },
        {
          "output_type": "stream",
          "name": "stdout",
          "text": [
            "12000/12000 [==============================] - 53s 4ms/step - loss: 0.0163\n",
            "Epoch 2/4\n",
            "12000/12000 [==============================] - 21s 2ms/step - loss: 0.0150\n",
            "Epoch 3/4\n",
            "12000/12000 [==============================] - 20s 2ms/step - loss: 0.0147\n",
            "Epoch 4/4\n",
            "12000/12000 [==============================] - 21s 2ms/step - loss: 0.0145\n"
          ]
        },
        {
          "output_type": "execute_result",
          "data": {
            "text/plain": [
              "<keras.src.callbacks.History at 0x797332496e90>"
            ]
          },
          "metadata": {},
          "execution_count": 19
        }
      ],
      "source": [
        "epochs = 4\n",
        "opt = keras.optimizers.Adam(learning_rate=0.001)\n",
        "dmrff.compile(optimizer=opt, loss=\"mse\")\n",
        "dmrff.fit(x_train, y_train, batch_size = 5, epochs=epochs)"
      ]
    },
    {
      "cell_type": "code",
      "execution_count": null,
      "metadata": {
        "colab": {
          "base_uri": "https://localhost:8080/"
        },
        "id": "5NBcN1wgnYKR",
        "outputId": "66d978ee-734c-46a4-91db-b61c025d18f7"
      },
      "outputs": [
        {
          "output_type": "stream",
          "name": "stdout",
          "text": [
            "Weights: <tf.Variable 'dmrff/q_feature_map_comp_adapt_rff/rff_weights:0' shape=(21, 8) dtype=float32, numpy=\n",
            "array([[ 0.04651476,  0.5082047 ,  0.35292906,  0.13418612, -0.5533088 ,\n",
            "         1.1188024 ,  1.7008282 ,  0.17793581],\n",
            "       [-1.2062833 , -2.318665  ,  1.8533612 ,  0.6333983 , -1.5140424 ,\n",
            "        -0.46725386, -0.28763333, -0.46720308],\n",
            "       [-1.3487393 , -0.1503717 ,  0.21834804,  1.0469569 , -1.327128  ,\n",
            "        -0.5724581 ,  0.1598767 ,  0.9356341 ],\n",
            "       [ 0.9672119 ,  0.17741428, -0.46344522,  0.3295363 ,  0.7259252 ,\n",
            "         1.6963261 ,  1.5958912 ,  0.36801267],\n",
            "       [-0.6921345 ,  1.1685077 , -0.12873697,  0.34068403, -0.6757964 ,\n",
            "        -0.31442   ,  1.3809888 , -1.1226826 ],\n",
            "       [-0.25587842, -1.478094  , -0.81711465,  1.8210952 ,  0.7793657 ,\n",
            "        -0.5880266 ,  0.9309902 , -1.244175  ],\n",
            "       [-2.0969706 ,  0.14382273,  0.31730476, -1.2940037 ,  1.2054616 ,\n",
            "         2.053294  ,  0.93258905,  0.50095874],\n",
            "       [ 0.13365753, -0.13156784,  1.3156506 , -0.82247025,  1.8896632 ,\n",
            "         0.1815325 , -0.01690024,  0.15235655],\n",
            "       [-0.5638131 , -0.80550116, -0.22395577,  0.0668322 , -0.44793117,\n",
            "        -0.42914382, -0.29801172,  0.12365954],\n",
            "       [-0.4029525 ,  0.50533944,  0.58624095,  0.18445641,  0.9069994 ,\n",
            "         0.21065457,  3.0444074 ,  0.73222643],\n",
            "       [ 0.900808  , -1.1312157 ,  0.0357888 ,  1.2675133 , -0.8734606 ,\n",
            "         0.40129066,  0.6832814 , -0.758169  ],\n",
            "       [-0.8202242 ,  1.5135485 , -0.6948963 ,  1.7325226 , -0.20008986,\n",
            "        -0.87258416, -0.07298823,  2.3917465 ],\n",
            "       [ 1.8563392 ,  0.14745659,  0.9562948 , -1.0403786 , -0.25228924,\n",
            "        -1.128217  ,  1.4709823 ,  1.1312841 ],\n",
            "       [-0.18354991,  0.7198634 , -0.4356548 , -0.0922104 , -0.95627254,\n",
            "         1.8012516 ,  0.5669112 ,  0.56248087],\n",
            "       [-0.960387  ,  0.04952445,  1.7894068 ,  1.1790353 ,  1.0295597 ,\n",
            "         0.44116417,  0.9792514 ,  0.011746  ],\n",
            "       [-0.5297139 ,  1.1015317 , -1.1748586 ,  1.2479409 ,  1.4867632 ,\n",
            "        -0.41549075, -0.6826921 , -2.2508054 ],\n",
            "       [ 1.1032386 ,  0.7636886 ,  0.36407173,  0.07018805, -1.2824742 ,\n",
            "         1.0725665 , -0.12768486, -0.33552727],\n",
            "       [ 1.2363868 ,  0.23702878, -0.5683981 , -0.53238606, -0.01764146,\n",
            "        -0.88385475,  2.1156292 , -0.8439897 ],\n",
            "       [ 0.9165877 , -1.0015441 ,  0.5768241 ,  0.054354  ,  1.943636  ,\n",
            "        -0.28292108, -0.17314658,  0.6870749 ],\n",
            "       [ 0.06060459,  0.45397535, -0.67824244,  0.1982116 ,  1.3574868 ,\n",
            "        -0.8409367 ,  1.5959108 ,  2.2569337 ],\n",
            "       [ 0.89179623, -1.9194008 , -1.9226518 ,  1.0026503 ,  0.50440955,\n",
            "         1.890969  ,  0.3437284 ,  1.4499218 ]], dtype=float32)>\n"
          ]
        }
      ],
      "source": [
        "print(f'Weights: {dmrff.rff_layer.rff_weights}')"
      ]
    },
    {
      "cell_type": "code",
      "source": [
        "weights_qaff = dmrff.rff_layer.rff_weights.numpy()\n",
        "\n",
        "weights_qaff.mean(), weights_qaff.std()"
      ],
      "metadata": {
        "colab": {
          "base_uri": "https://localhost:8080/"
        },
        "id": "secPGwFpfbRn",
        "outputId": "7ff9ceea-ce0f-4d77-be51-98a7be2162b9"
      },
      "execution_count": null,
      "outputs": [
        {
          "output_type": "execute_result",
          "data": {
            "text/plain": [
              "(0.20532994, 1.0123316)"
            ]
          },
          "metadata": {},
          "execution_count": 21
        }
      ]
    },
    {
      "cell_type": "markdown",
      "source": [
        "## Q-DEMDE QRFF"
      ],
      "metadata": {
        "id": "aswp8diZ3OTe"
      }
    },
    {
      "cell_type": "code",
      "execution_count": null,
      "metadata": {
        "colab": {
          "base_uri": "https://localhost:8080/"
        },
        "outputId": "4df428c0-9b92-4d20-c293-eef08e2547a1",
        "id": "BsSV6FPT3dLX"
      },
      "outputs": [
        {
          "output_type": "execute_result",
          "data": {
            "text/plain": [
              "((1098, 8), (367, 8), (366, 8))"
            ]
          },
          "metadata": {},
          "execution_count": 22
        }
      ],
      "source": [
        "## Make predictions\n",
        "\n",
        "gamma_feat = 0.0078125\n",
        "\n",
        "weights_rff_temp = weights_qrff\n",
        "\n",
        "def predict_features(X, var2, gamma_param):\n",
        "  X_feat = onp.ones((len(X), var2.shape[1]), dtype = onp.complex128)\n",
        "  X_feat[:, :] = onp.cos(np.sqrt(gamma_param)*(X @ var2)) - 1j*onp.sin(np.sqrt(gamma_param)*(X @ var2))\n",
        "  X_feat *= onp.sqrt(1/(var2.shape[1]))\n",
        "  return X_feat\n",
        "\n",
        "X_feat_train = predict_features(X_train, weights_rff_temp, gamma_feat)\n",
        "X_feat_test = predict_features(X_test, weights_rff_temp, gamma_feat)\n",
        "X_feat_val = predict_features(X_val, weights_rff_temp, gamma_feat)\n",
        "\n",
        "X_feat_train.shape, X_feat_test.shape, X_feat_val.shape"
      ]
    },
    {
      "cell_type": "code",
      "execution_count": null,
      "metadata": {
        "colab": {
          "base_uri": "https://localhost:8080/"
        },
        "outputId": "9aefe14c-a5a1-4f9b-9e6e-f5b4ae7c99f5",
        "id": "yiBcZn1N3dLf"
      },
      "outputs": [
        {
          "output_type": "execute_result",
          "data": {
            "text/plain": [
              "1.0000000000000004"
            ]
          },
          "metadata": {},
          "execution_count": 23
        }
      ],
      "source": [
        "## Training\n",
        "rho_train = onp.zeros((n_rffs, n_rffs))\n",
        "\n",
        "for i in range(len(X_feat_train)):\n",
        "  rho_train = rho_train + onp.outer(X_feat_train[i], onp.conjugate(X_feat_train[i]))\n",
        "\n",
        "rho_train = rho_train / len(X_feat_train)\n",
        "\n",
        "(onp.abs(X_feat_train[0])**2).sum()"
      ]
    },
    {
      "cell_type": "markdown",
      "source": [
        "### QDMKDE circuit"
      ],
      "metadata": {
        "id": "W1kwMJudshl0"
      }
    },
    {
      "cell_type": "code",
      "source": [
        "num_qubits_temp = 2*int(np.log2(n_rffs))\n",
        "\n",
        "dev_dmkde = qml.device(\"lightning.qubit\", wires = 2*num_qubits_temp)\n",
        "\n",
        "@qml.qnode(dev_dmkde)\n",
        "def QDMKDE(x_test, U_train, lambda_train):\n",
        "    upper_wires = [i for i in range(int(num_qubits_temp/2))]\n",
        "    lower_wires = [i for i in range(int(num_qubits_temp/2), int(num_qubits_temp))]\n",
        "    qml.MottonenStatePreparation(state_vector=x_test, wires=upper_wires)\n",
        "    qml.MottonenStatePreparation(state_vector=np.sqrt(lambda_train), wires=lower_wires)\n",
        "    qml.QubitUnitary(np.conjugate(U_train.T), wires=upper_wires)\n",
        "    for i in range(int(num_qubits_temp//2)):\n",
        "      qml.CNOT([lower_wires[i], upper_wires[i]])\n",
        "\n",
        "    return qml.probs(wires=upper_wires)\n",
        "\n"
      ],
      "metadata": {
        "id": "Oaiso3ppskBg"
      },
      "execution_count": null,
      "outputs": []
    },
    {
      "cell_type": "code",
      "source": [
        "## Predicting the density of test and val\n",
        "\n",
        "lambda_train, U_train = np.linalg.eigh(rho_train)\n",
        "\n",
        "### predict test data\n",
        "\n",
        "prob_expected_mixed_test = onp.zeros(len(X_feat_test))\n",
        "\n",
        "for i in range(len(prob_expected_mixed_test)):\n",
        "  prob_expected_mixed_test[i] = QDMKDE(X_feat_test[i], U_train, lambda_train)[0]\n",
        "\n",
        "prob_expected_mixed_test = calculate_constant_qmkde(gamma_feat/2, 21)*prob_expected_mixed_test\n",
        "\n",
        "### predict val data\n",
        "\n",
        "prob_expected_mixed_val = onp.zeros(len(X_feat_val))\n",
        "\n",
        "for i in range(len(prob_expected_mixed_val)):\n",
        "  prob_expected_mixed_val[i] = QDMKDE(X_feat_val[i], U_train, lambda_train)[0]\n",
        "\n",
        "prob_expected_mixed_val = calculate_constant_qmkde(gamma_feat/2, 21)*prob_expected_mixed_val\n",
        "\n",
        "\n",
        "prob_expected_mixed_test.shape, prob_expected_mixed_val.shape"
      ],
      "metadata": {
        "colab": {
          "base_uri": "https://localhost:8080/"
        },
        "id": "Wn0pFBOYskBh",
        "outputId": "58f6578a-d889-4e09-b762-09990323b1ac"
      },
      "execution_count": null,
      "outputs": [
        {
          "output_type": "execute_result",
          "data": {
            "text/plain": [
              "((367,), (366,))"
            ]
          },
          "metadata": {},
          "execution_count": 25
        }
      ]
    },
    {
      "cell_type": "markdown",
      "source": [
        "### Metrics"
      ],
      "metadata": {
        "id": "bgywq5ngoW_k"
      }
    },
    {
      "cell_type": "code",
      "source": [
        "from sklearn.metrics import roc_curve, f1_score\n",
        "from sklearn.metrics import classification_report\n",
        "\n",
        "def classification(preds_val, preds_test, y_test, output_dict = False):\n",
        "    thredhold = np.percentile(preds_val, q = 9.54)\n",
        "    y_pred = preds_test > thredhold\n",
        "    if output_dict == True:\n",
        "      return classification_report(y_test, y_pred, digits=4, output_dict=True)\n",
        "    else:\n",
        "      return classification_report(y_test, y_pred, digits=4)"
      ],
      "metadata": {
        "id": "tw-kzPBCBnWm"
      },
      "execution_count": null,
      "outputs": []
    },
    {
      "cell_type": "code",
      "source": [
        "print(classification(prob_expected_mixed_val, prob_expected_mixed_test, y_test))\n",
        "\n",
        "print(f\"AUC = {round(roc_auc_score(y_test, prob_expected_mixed_test), 4)}\")"
      ],
      "metadata": {
        "colab": {
          "base_uri": "https://localhost:8080/"
        },
        "id": "P0zL2Xs9CL78",
        "outputId": "44767837-6b44-418d-e5b5-14a2afd79bb6"
      },
      "execution_count": null,
      "outputs": [
        {
          "output_type": "stream",
          "name": "stdout",
          "text": [
            "              precision    recall  f1-score   support\n",
            "\n",
            "         0.0     0.5484    0.4857    0.5152        35\n",
            "         1.0     0.9464    0.9578    0.9521       332\n",
            "\n",
            "    accuracy                         0.9128       367\n",
            "   macro avg     0.7474    0.7218    0.7336       367\n",
            "weighted avg     0.9085    0.9128    0.9104       367\n",
            "\n",
            "AUC = 0.8897\n"
          ]
        }
      ]
    },
    {
      "cell_type": "markdown",
      "source": [
        "## Q-DEMDE QAFF"
      ],
      "metadata": {
        "id": "eZr532fTbSPl"
      }
    },
    {
      "cell_type": "code",
      "execution_count": null,
      "metadata": {
        "colab": {
          "base_uri": "https://localhost:8080/"
        },
        "outputId": "5e81c4e7-8d41-4021-a8c1-220fe4d377df",
        "id": "ObJ_cp8ZbSPv"
      },
      "outputs": [
        {
          "output_type": "execute_result",
          "data": {
            "text/plain": [
              "((1098, 8), (367, 8), (366, 8))"
            ]
          },
          "metadata": {},
          "execution_count": 28
        }
      ],
      "source": [
        "## Make predictions\n",
        "\n",
        "gamma_feat = 0.0078125\n",
        "\n",
        "weights_qaff_temp = weights_qaff\n",
        "\n",
        "def predict_features(X, var2, gamma_param):\n",
        "  X_feat = onp.ones((len(X), var2.shape[1]), dtype = onp.complex128)\n",
        "  X_feat[:, :] = onp.cos(np.sqrt(gamma_param)*(X @ var2)) - 1j*onp.sin(np.sqrt(gamma_param)*(X @ var2))\n",
        "  X_feat *= onp.sqrt(1/(var2.shape[1]))\n",
        "  return X_feat\n",
        "\n",
        "\n",
        "X_feat_train = predict_features(X_train, weights_qaff_temp, gamma_feat)\n",
        "X_feat_test = predict_features(X_test, weights_qaff_temp, gamma_feat)\n",
        "X_feat_val = predict_features(X_val, weights_qaff_temp, gamma_feat)\n",
        "\n",
        "X_feat_train.shape, X_feat_test.shape, X_feat_val.shape"
      ]
    },
    {
      "cell_type": "code",
      "execution_count": null,
      "metadata": {
        "colab": {
          "base_uri": "https://localhost:8080/"
        },
        "outputId": "c5125d0e-b280-4efd-af93-e76dc39962dd",
        "id": "0ExWXd4ibSPw"
      },
      "outputs": [
        {
          "output_type": "execute_result",
          "data": {
            "text/plain": [
              "1.0000000000000004"
            ]
          },
          "metadata": {},
          "execution_count": 29
        }
      ],
      "source": [
        "## Training\n",
        "rho_train = onp.zeros((n_rffs, n_rffs))\n",
        "\n",
        "for i in range(len(X_feat_train)):\n",
        "  rho_train = rho_train + onp.outer(X_feat_train[i], onp.conjugate(X_feat_train[i]))\n",
        "\n",
        "rho_train = rho_train / len(X_feat_train)\n",
        "\n",
        "(onp.abs(X_feat_train[0])**2).sum()"
      ]
    },
    {
      "cell_type": "markdown",
      "source": [
        "### QDMKDE circuit"
      ],
      "metadata": {
        "id": "xs70S2bEsvgx"
      }
    },
    {
      "cell_type": "code",
      "source": [
        "num_qubits_temp = 2*int(np.log2(n_rffs))\n",
        "\n",
        "dev_dmkde = qml.device(\"lightning.qubit\", wires = 2*num_qubits_temp)\n",
        "\n",
        "@qml.qnode(dev_dmkde)\n",
        "def QDMKDE(x_test, U_train, lambda_train):\n",
        "    upper_wires = [i for i in range(int(num_qubits_temp/2))]\n",
        "    lower_wires = [i for i in range(int(num_qubits_temp/2), int(num_qubits_temp))]\n",
        "    qml.MottonenStatePreparation(state_vector=x_test, wires=upper_wires)\n",
        "    qml.MottonenStatePreparation(state_vector=np.sqrt(lambda_train), wires=lower_wires)\n",
        "    qml.QubitUnitary(np.conjugate(U_train.T), wires=upper_wires)\n",
        "    for i in range(int(num_qubits_temp//2)):\n",
        "      qml.CNOT([lower_wires[i], upper_wires[i]])\n",
        "\n",
        "    return qml.probs(wires=upper_wires)\n",
        "\n"
      ],
      "metadata": {
        "id": "tzoAu8R6svgy"
      },
      "execution_count": null,
      "outputs": []
    },
    {
      "cell_type": "code",
      "source": [
        "## Predicting the density of test and val\n",
        "\n",
        "lambda_train, U_train = np.linalg.eigh(rho_train)\n",
        "\n",
        "### predict test data\n",
        "\n",
        "prob_expected_mixed_test = onp.zeros(len(X_feat_test))\n",
        "\n",
        "for i in range(len(prob_expected_mixed_test)):\n",
        "  prob_expected_mixed_test[i] = QDMKDE(X_feat_test[i], U_train, lambda_train)[0]\n",
        "\n",
        "prob_expected_mixed_test = calculate_constant_qmkde(gamma_feat/2, 21)*prob_expected_mixed_test\n",
        "\n",
        "### predict val data\n",
        "\n",
        "prob_expected_mixed_val = onp.zeros(len(X_feat_val))\n",
        "\n",
        "for i in range(len(prob_expected_mixed_val)):\n",
        "  prob_expected_mixed_val[i] = QDMKDE(X_feat_val[i], U_train, lambda_train)[0]\n",
        "\n",
        "prob_expected_mixed_val = calculate_constant_qmkde(gamma_feat/2, 21)*prob_expected_mixed_val\n",
        "\n",
        "\n",
        "prob_expected_mixed_test.shape, prob_expected_mixed_val.shape"
      ],
      "metadata": {
        "colab": {
          "base_uri": "https://localhost:8080/"
        },
        "id": "wgRbqRMvsvgy",
        "outputId": "982e5dfc-4f26-4922-9836-c789b4231ac5"
      },
      "execution_count": null,
      "outputs": [
        {
          "output_type": "execute_result",
          "data": {
            "text/plain": [
              "((367,), (366,))"
            ]
          },
          "metadata": {},
          "execution_count": 31
        }
      ]
    },
    {
      "cell_type": "markdown",
      "source": [
        "### Metrics"
      ],
      "metadata": {
        "id": "Fa7KylBAZPEH"
      }
    },
    {
      "cell_type": "code",
      "source": [
        "from sklearn.metrics import roc_curve, f1_score\n",
        "from sklearn.metrics import classification_report\n",
        "\n",
        "def classification(preds_val, preds_test, y_test, output_dict = False):\n",
        "    thredhold = np.percentile(preds_val, q = 9.54)\n",
        "    y_pred = preds_test > thredhold\n",
        "    if output_dict == True:\n",
        "      return classification_report(y_test, y_pred, digits=4, output_dict=True)\n",
        "    else:\n",
        "      return classification_report(y_test, y_pred, digits=4)"
      ],
      "metadata": {
        "id": "4LJSwUgEDIxg"
      },
      "execution_count": null,
      "outputs": []
    },
    {
      "cell_type": "code",
      "source": [
        "print(classification(prob_expected_mixed_val, prob_expected_mixed_test, y_test))\n",
        "\n",
        "print(f\"AUC = {round(roc_auc_score(y_test, prob_expected_mixed_test), 4)}\")"
      ],
      "metadata": {
        "colab": {
          "base_uri": "https://localhost:8080/"
        },
        "outputId": "10ea5688-8d99-49b1-fc77-530c0ee1ac83",
        "id": "QYT9J_qnDIxh"
      },
      "execution_count": null,
      "outputs": [
        {
          "output_type": "stream",
          "name": "stdout",
          "text": [
            "              precision    recall  f1-score   support\n",
            "\n",
            "         0.0     0.5676    0.6000    0.5833        35\n",
            "         1.0     0.9576    0.9518    0.9547       332\n",
            "\n",
            "    accuracy                         0.9183       367\n",
            "   macro avg     0.7626    0.7759    0.7690       367\n",
            "weighted avg     0.9204    0.9183    0.9193       367\n",
            "\n",
            "AUC = 0.9532\n"
          ]
        }
      ]
    }
  ]
}